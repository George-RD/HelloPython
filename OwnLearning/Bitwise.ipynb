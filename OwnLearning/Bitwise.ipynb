{
 "cells": [
  {
   "cell_type": "markdown",
   "id": "444833d0",
   "metadata": {},
   "source": [
    "# Bitwise AND\n",
    "x & y\n",
    "Does a \"bitwise and\". Each bit of the output is 1 if the corresponding bit of x AND of y is 1, otherwise it's 0.\n"
   ]
  },
  {
   "cell_type": "code",
   "execution_count": 52,
   "id": "371e073f",
   "metadata": {},
   "outputs": [
    {
     "name": "stdout",
     "output_type": "stream",
     "text": [
      "0\n"
     ]
    }
   ],
   "source": [
    "x = 10  # 1010\n",
    "\n",
    "print(x & 1) # bitwise compare last bit. if 1, number odd, if 0, number even\n"
   ]
  },
  {
   "cell_type": "code",
   "execution_count": null,
   "id": "a7525493",
   "metadata": {},
   "outputs": [
    {
     "name": "stdout",
     "output_type": "stream",
     "text": [
      "1\n"
     ]
    }
   ],
   "source": [
    "x = 11  # 1011\n",
    "\n",
    "print(x & 1) # result 1, number is odd\n"
   ]
  },
  {
   "cell_type": "code",
   "execution_count": 180,
   "id": "3e055758",
   "metadata": {},
   "outputs": [
    {
     "data": {
      "text/plain": [
       "8"
      ]
     },
     "execution_count": 180,
     "metadata": {},
     "output_type": "execute_result"
    }
   ],
   "source": [
    "x = 16   \n",
    "\n",
    "x >> 1"
   ]
  },
  {
   "cell_type": "markdown",
   "id": "f915a33e",
   "metadata": {},
   "source": [
    "# Bitwise OR\n",
    "\n",
    "x | y\n",
    "Does a \"bitwise or\". Each bit of the output is 0 if the corresponding bit of x AND of y is 0, otherwise it's 1"
   ]
  },
  {
   "cell_type": "code",
   "execution_count": 115,
   "id": "85d191de",
   "metadata": {},
   "outputs": [
    {
     "data": {
      "text/plain": [
       "1011"
      ]
     },
     "execution_count": 115,
     "metadata": {},
     "output_type": "execute_result"
    }
   ],
   "source": [
    "x = 1011  #\n",
    "\n",
    "x|1 #  \n",
    "\n"
   ]
  },
  {
   "cell_type": "markdown",
   "id": "a9c8f649",
   "metadata": {},
   "source": [
    "# Bitwise Operators\n",
    "\n",
    "The Operators:\n",
    "\n",
    "x << y\n",
    "Returns x with the bits shifted to the left by y places (and new bits on the right-hand-side are zeros). This is the same as multiplying x by 2**y.\n",
    "x >> y\n",
    "Returns x with the bits shifted to the right by y places. This is the same as floor division of x by 2**y.\n",
    "x & y\n",
    "Does a \"bitwise and\". Each bit of the output is 1 if the corresponding bit of x AND of y is 1, otherwise it's 0.\n",
    "x | y\n",
    "Does a \"bitwise or\". Each bit of the output is 0 if the corresponding bit of x AND of y is 0, otherwise it's 1.\n",
    "~ x\n",
    "Returns the complement of x - the number you get by switching each 1 for a 0 and each 0 for a 1. This is the same as -x - 1.\n",
    "x ^ y\n",
    "Does a \"bitwise exclusive or\". Each bit of the output is the same as the corresponding bit in x if that bit in y is 0, and it's the complement of the bit in x if that bit in y is 1.\n",
    "Just remember about that infinite series of 1 bits in a negative number, and these should all make sense."
   ]
  },
  {
   "cell_type": "code",
   "execution_count": null,
   "id": "0673ca7b",
   "metadata": {},
   "outputs": [
    {
     "data": {
      "text/plain": [
       "7"
      ]
     },
     "execution_count": 118,
     "metadata": {},
     "output_type": "execute_result"
    }
   ],
   "source": [
    "x = 15  # 15 is 1110\n",
    "\n",
    "x >> 1   # 111 = 7"
   ]
  },
  {
   "cell_type": "markdown",
   "id": "6d43289a",
   "metadata": {},
   "source": [
    "# 1342. Number of Steps to Reduce a Number to Zero\n",
    "Solved\n",
    "Easy\n",
    "\n",
    "Topics\n",
    "premium lock icon\n",
    "Companies\n",
    "\n",
    "Hint\n",
    "Given an integer num, return the number of steps to reduce it to zero.\n",
    "\n",
    "In one step, if the current number is even, you have to divide it by 2, otherwise, you have to subtract 1 from it.\n",
    "\n",
    " \n",
    "\n",
    "Example 1:\n",
    "\n",
    "Input: num = 14\n",
    "Output: 6\n",
    "Explanation: \n",
    "Step 1) 14 is even; divide by 2 and obtain 7. \n",
    "Step 2) 7 is odd; subtract 1 and obtain 6.\n",
    "Step 3) 6 is even; divide by 2 and obtain 3. \n",
    "Step 4) 3 is odd; subtract 1 and obtain 2. \n",
    "Step 5) 2 is even; divide by 2 and obtain 1. \n",
    "Step 6) 1 is odd; subtract 1 and obtain 0.\n",
    "Example 2:\n",
    "\n",
    "Input: num = 8\n",
    "Output: 4\n",
    "Explanation: \n",
    "Step 1) 8 is even; divide by 2 and obtain 4. \n",
    "Step 2) 4 is even; divide by 2 and obtain 2. \n",
    "Step 3) 2 is even; divide by 2 and obtain 1. \n",
    "Step 4) 1 is odd; subtract 1 and obtain 0.\n",
    "Example 3:\n",
    "\n",
    "Input: num = 123\n",
    "Output: 12\n"
   ]
  },
  {
   "cell_type": "code",
   "execution_count": null,
   "id": "bffd4f5b",
   "metadata": {},
   "outputs": [
    {
     "data": {
      "text/plain": [
       "0"
      ]
     },
     "execution_count": 97,
     "metadata": {},
     "output_type": "execute_result"
    }
   ],
   "source": [
    "def numberOfSteps(num: int) -> int:\n",
    "    steps = 0\n",
    "    while num > 0:\n",
    "        steps += (num & 1) + 1\n",
    "        num = num >> 1\n",
    "    return steps\n",
    "\n",
    "numberOfSteps(1)\n",
    "\n",
    "# solution gives steps + 1, because it still adds two to the steps for the last step, 1 >> 1 = 0. Start steps from -1 solves. except for 0"
   ]
  },
  {
   "cell_type": "code",
   "execution_count": 221,
   "id": "9f4ed5fe",
   "metadata": {},
   "outputs": [
    {
     "data": {
      "text/plain": [
       "10"
      ]
     },
     "execution_count": 221,
     "metadata": {},
     "output_type": "execute_result"
    }
   ],
   "source": [
    "def numberOfSteps(num: int) -> int:\n",
    "    steps = -1\n",
    "    while num > 0:\n",
    "        steps += (num & 1) + 1\n",
    "        num = num >> 1\n",
    "    return max(steps,0)\n",
    "\n",
    "numberOfSteps(92)\n",
    "\n",
    "# this works for all constraints of the test"
   ]
  },
  {
   "cell_type": "code",
   "execution_count": 211,
   "id": "f37ba829",
   "metadata": {},
   "outputs": [
    {
     "data": {
      "text/plain": [
       "10"
      ]
     },
     "execution_count": 211,
     "metadata": {},
     "output_type": "execute_result"
    }
   ],
   "source": [
    "num = 43\n",
    "\n",
    "test = sum(int(i) + 1 for i in f\"{num:b}\")\n",
    "\n",
    "test\n",
    "\n"
   ]
  },
  {
   "cell_type": "code",
   "execution_count": 213,
   "id": "ccd9d30c",
   "metadata": {},
   "outputs": [
    {
     "data": {
      "text/plain": [
       "27"
      ]
     },
     "execution_count": 213,
     "metadata": {},
     "output_type": "execute_result"
    }
   ],
   "source": [
    "55 // 2"
   ]
  },
  {
   "cell_type": "code",
   "execution_count": 223,
   "id": "8988e5be",
   "metadata": {},
   "outputs": [
    {
     "data": {
      "text/plain": [
       "3"
      ]
     },
     "execution_count": 223,
     "metadata": {},
     "output_type": "execute_result"
    }
   ],
   "source": [
    "6//2"
   ]
  },
  {
   "cell_type": "code",
   "execution_count": 220,
   "id": "4957e80d",
   "metadata": {},
   "outputs": [
    {
     "data": {
      "text/plain": [
       "'10111001011100'"
      ]
     },
     "execution_count": 220,
     "metadata": {},
     "output_type": "execute_result"
    }
   ],
   "source": [
    "f\"{92:b}\" *2"
   ]
  }
 ],
 "metadata": {
  "kernelspec": {
   "display_name": ".venv",
   "language": "python",
   "name": "python3"
  },
  "language_info": {
   "codemirror_mode": {
    "name": "ipython",
    "version": 3
   },
   "file_extension": ".py",
   "mimetype": "text/x-python",
   "name": "python",
   "nbconvert_exporter": "python",
   "pygments_lexer": "ipython3",
   "version": "3.13.3"
  }
 },
 "nbformat": 4,
 "nbformat_minor": 5
}
