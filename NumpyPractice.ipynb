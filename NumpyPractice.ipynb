{
 "cells": [
  {
   "cell_type": "code",
   "execution_count": null,
   "id": "0630b708",
   "metadata": {},
   "outputs": [
    {
     "name": "stdout",
     "output_type": "stream",
     "text": [
      "Original Matrix:\n",
      "[[104  58  53  21]\n",
      " [ 74  76  45  33]\n",
      " [128   7  84  75]\n",
      " [ 36  91  67  39]]\n",
      "21\n",
      "[21 33  7 36]\n",
      "[104  76 128  91]\n"
     ]
    }
   ],
   "source": [
    "import numpy as np\n",
    "\n",
    "matrix = np.random.randint(0,150,(4,4))\n",
    "\n",
    "print(f\"Original Matrix:\\n{matrix}\")\n",
    "\n",
    "print(np.amin(matrix[0]))\n",
    "\n",
    "littlematrix = np.array([],dtype=int)\n",
    "for row in matrix:\n",
    "    #### no need min_value = np.array([np.amin(row)])\n",
    "    littlematrix = np.concatenate([littlematrix, [np.amin(row)]])\n",
    "\n",
    "\n",
    "\n",
    "bigmatrix = np.max(matrix,axis=1)   # other way to achieve same thing.\n",
    "\n",
    "print(littlematrix)\n",
    "\n",
    "print(bigmatrix)"
   ]
  },
  {
   "cell_type": "code",
   "execution_count": 7,
   "id": "ba55029a",
   "metadata": {},
   "outputs": [
    {
     "name": "stdout",
     "output_type": "stream",
     "text": [
      "2\n",
      "8\n",
      "35\n"
     ]
    }
   ],
   "source": [
    "print(np.amin(matrix[0]))\n",
    "print(np.amin(matrix[1]))\n",
    "print(np.amin(matrix[2]))"
   ]
  },
  {
   "cell_type": "code",
   "execution_count": 11,
   "id": "3c43e74f",
   "metadata": {},
   "outputs": [
    {
     "name": "stdout",
     "output_type": "stream",
     "text": [
      "0\n",
      "1\n",
      "2\n",
      "3\n"
     ]
    }
   ],
   "source": [
    "for i in range(0, 4):\n",
    "    print(i)\n"
   ]
  }
 ],
 "metadata": {
  "kernelspec": {
   "display_name": ".venv",
   "language": "python",
   "name": "python3"
  },
  "language_info": {
   "codemirror_mode": {
    "name": "ipython",
    "version": 3
   },
   "file_extension": ".py",
   "mimetype": "text/x-python",
   "name": "python",
   "nbconvert_exporter": "python",
   "pygments_lexer": "ipython3",
   "version": "3.13.3"
  }
 },
 "nbformat": 4,
 "nbformat_minor": 5
}
