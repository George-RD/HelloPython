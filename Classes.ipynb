{
 "cells": [
  {
   "cell_type": "markdown",
   "id": "279f1ab6",
   "metadata": {},
   "source": [
    "# Classes\n",
    "\n",
    "Python is object oriented language.\n",
    "\n",
    "Class is like a blueprint for creating objects.\n",
    "\n",
    "Usually use PascalCase.\n",
    "\n",
    "## The init() Function\n",
    "\n",
    "All classes have a function called init(), which is always executed when the class is being initiated.\n",
    "\n",
    "Use the init() function to assign values to object properties, or other operations that are necessary to do when the object is being created:"
   ]
  },
  {
   "cell_type": "code",
   "execution_count": 8,
   "id": "622312f9",
   "metadata": {},
   "outputs": [
    {
     "name": "stdout",
     "output_type": "stream",
     "text": [
      "John\n",
      "36\n",
      "Hello my name is Jimmy\n"
     ]
    }
   ],
   "source": [
    "class Person:\n",
    "    def __init__(self, name, age):\n",
    "        self.name = name\n",
    "        self.age = age\n",
    "\n",
    "    p1 = Person(\"John\", 36)\n",
    "\n",
    "    print(p1.name)\n",
    "    print(p1.age)\n",
    "\n",
    "    def wholeperson(self):\n",
    "        print(f\"Hello my name is {self.name}\")\n",
    "\n",
    "p1 = Person(\"Jimmy\", 42)\n",
    "p1.wholeperson()"
   ]
  },
  {
   "cell_type": "markdown",
   "id": "1226e2a8",
   "metadata": {},
   "source": [
    "## Self Parameter\n",
    "The self parameter refers to the current instance of the class. Used to access variables that belong to the class. It does not have to be named self, but it does have to be the first parameter of any function in the class."
   ]
  },
  {
   "cell_type": "code",
   "execution_count": 10,
   "id": "259b1ea2",
   "metadata": {},
   "outputs": [
    {
     "name": "stdout",
     "output_type": "stream",
     "text": [
      "John\n",
      "36\n",
      "Hello my name is Jimmy\n"
     ]
    }
   ],
   "source": [
    "class Person:\n",
    "    def __init__(amiaperson, name, age):\n",
    "        amiaperson.name = name\n",
    "        amiaperson.age = age\n",
    "\n",
    "    p1 = Person(\"John\", 36)\n",
    "\n",
    "    print(p1.name)\n",
    "    print(p1.age)\n",
    "\n",
    "    def wholeperson(self):\n",
    "        print(f\"Hello my name is {self.name}\")\n",
    "\n",
    "p1 = Person(\"Jimmy\", 42)\n",
    "p1.wholeperson()"
   ]
  },
  {
   "cell_type": "markdown",
   "id": "0eb6057a",
   "metadata": {},
   "source": [
    "## Inheritance\n",
    "\n",
    "A class can inherit all the properties and functions of a parent class, and you can add more. New class is the child class"
   ]
  },
  {
   "cell_type": "code",
   "execution_count": 23,
   "id": "28816188",
   "metadata": {},
   "outputs": [
    {
     "name": "stdout",
     "output_type": "stream",
     "text": [
      "John\n",
      "36\n",
      "Hello my name is Jimmy\n",
      "\n",
      "\n",
      "Intoducing Superman! \n",
      "\n",
      "Aged:1321\n",
      "Known for: Laser Eyes\n",
      "If you want to kill me, use Kryptonite\n",
      "By the way, I can fly. \n"
     ]
    }
   ],
   "source": [
    "\n",
    "class Person:\n",
    "    def __init__(self, name, age):\n",
    "        self.name = name\n",
    "        self.age = age\n",
    "\n",
    "    p1 = Person(\"John\", 36)\n",
    "\n",
    "    print(p1.name)\n",
    "    print(p1.age)\n",
    "\n",
    "    def wholeperson(self):\n",
    "        print(f\"Hello my name is {self.name}\\n\\n\")\n",
    "\n",
    "p1 = Person(\"Jimmy\", 42)\n",
    "p1.wholeperson()\n",
    "\n",
    "\n",
    "\n",
    "\n",
    "\n",
    "\n",
    "\n",
    "\n",
    "class SuperHero(Person):\n",
    "    def __init__(self,supername,age,superpower,vulnerability,canfly):\n",
    "        super().__init__(supername, age)\n",
    "        self.superpower = superpower\n",
    "        self.vulnerability = vulnerability\n",
    "        self.canfly = canfly\n",
    "\n",
    "     \n",
    "\n",
    "    def superprofile(self):\n",
    "        if self.canfly == True:\n",
    "            flightstatus = \"can\"\n",
    "        else:\n",
    "            flightstatus = \"can't\"\n",
    "        print(f\"Intoducing {self.name}! \\n\\nAged:{self.age}\\nKnown for: {self.superpower}\\nIf you want to kill me, use {self.vulnerability}\\nBy the way, I {flightstatus} fly. \")\n",
    "\n",
    "superman = SuperHero(\"Superman\", 1321,\"Laser Eyes\",\"Kryptonite\", True)\n",
    "\n",
    "\n",
    "superman.superprofile()"
   ]
  },
  {
   "cell_type": "code",
   "execution_count": null,
   "id": "e827eb7d",
   "metadata": {},
   "outputs": [],
   "source": []
  },
  {
   "cell_type": "code",
   "execution_count": null,
   "id": "fc99bf50",
   "metadata": {},
   "outputs": [],
   "source": []
  }
 ],
 "metadata": {
  "kernelspec": {
   "display_name": ".venv",
   "language": "python",
   "name": "python3"
  },
  "language_info": {
   "codemirror_mode": {
    "name": "ipython",
    "version": 3
   },
   "file_extension": ".py",
   "mimetype": "text/x-python",
   "name": "python",
   "nbconvert_exporter": "python",
   "pygments_lexer": "ipython3",
   "version": "3.13.3"
  }
 },
 "nbformat": 4,
 "nbformat_minor": 5
}
