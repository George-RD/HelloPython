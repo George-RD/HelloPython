{
 "cells": [
  {
   "cell_type": "markdown",
   "id": "8470b243",
   "metadata": {},
   "source": [
    "# Bytes"
   ]
  },
  {
   "cell_type": "code",
   "execution_count": 13,
   "id": "77502a6d",
   "metadata": {},
   "outputs": [
    {
     "data": {
      "text/plain": [
       "b'\\x00\\x00\\x00\\x00\\x00\\x00\\x00\\x00\\x00\\x00'"
      ]
     },
     "execution_count": 13,
     "metadata": {},
     "output_type": "execute_result"
    }
   ],
   "source": [
    "bytes(10)"
   ]
  },
  {
   "cell_type": "markdown",
   "id": "f190f688",
   "metadata": {},
   "source": [
    "# Convert hexadecimal to decimal\n",
    "\n",
    "Hexadecimal, or \"base 16,\" uses all of the numbers 0–9, plus a few others to signify higher numbers:\n",
    "\n",
    "```\n",
    "A = 10  \n",
    "B = 11  \n",
    "C = 12  \n",
    "D = 13  \n",
    "E = 14  \n",
    "F = 15\n",
    "```\n",
    "\n",
    "For more information about (and some background on) the hexadecimal numbering system, you can watch [this video](https://example.com).\n",
    "\n",
    "---\n",
    "\n",
    "## Practice with hexadecimal\n",
    "\n",
    "The hexadecimal number **2A** represents the decimal number **42**. Why?\n",
    "\n",
    "The hexadecimal number 2A contains a 2 in the **16's place**, plus an A in the **1's place**.\n",
    "\n",
    "Think about the decimal number 42 — it contains a 4 in the **10's place** and a 2 in the **1's place**.\n",
    "\n",
    "Just like decimal has a \"10's place,\" hexadecimal has a corresponding \"16's place.\"\n",
    "\n",
    "So, we can convert the hexadecimal **2A** into decimal using:\n",
    "\n",
    "```\n",
    "(2 * 16) + (A * 1) = (2 * 16) + (10 * 1) = 42\n",
    "```\n",
    "\n",
    "Similarly, the hexadecimal number **CAB** contains a C (or 12) in the 256's place,  \n",
    "an A (or 10) in the 16's place, and a B (or 11) in the 1's place.\n",
    "\n",
    "Just like decimal has a \"100's place\" (which is 10 * 10), hexadecimal has a  \n",
    "\"256's place\" (which is 16 * 16).\n",
    "\n",
    "So we can convert the hexadecimal **CAB** into decimal using:\n",
    "\n",
    "```\n",
    "(C * 256) + (A * 16) + (B * 1) = (12 * 256) + (10 * 16) + (11 * 1) = 3243\n",
    "```\n",
    "\n",
    "---\n",
    "\n",
    "## Your task\n",
    "\n",
    "Write a function to convert a hexadecimal string (up to three characters long)  \n",
    "into a decimal integer. **Do not** use the Python function `int(hexNum, 16)` to do this.  \n",
    "Write your own function!\n",
    "\n",
    "### Parameters\n",
    "\n",
    "- `hexNum`: Some value that needs to be converted into a decimal number, if possible.  \n",
    "  Up to three characters long.\n",
    "\n",
    "### Result\n",
    "\n",
    "- `int`: The decimal value of the hexadecimal input, or `None` if it is not a valid hexadecimal input.\n",
    "\n",
    "---\n",
    "\n",
    "### Example 1\n",
    "\n",
    "**Input:** `ABC`  \n",
    "**Result:** `2748`\n",
    "\n",
    "### Example 2\n",
    "\n",
    "**Input:** `'Not a number'`  \n",
    "**Result:** `None`"
   ]
  },
  {
   "cell_type": "code",
   "execution_count": null,
   "id": "e491700c",
   "metadata": {},
   "outputs": [
    {
     "name": "stdout",
     "output_type": "stream",
     "text": [
      "2\n"
     ]
    },
    {
     "ename": "TypeError",
     "evalue": "index expected at least 1 argument, got 0",
     "output_type": "error",
     "traceback": [
      "\u001b[31m---------------------------------------------------------------------------\u001b[39m",
      "\u001b[31mTypeError\u001b[39m                                 Traceback (most recent call last)",
      "\u001b[36mCell\u001b[39m\u001b[36m \u001b[39m\u001b[32mIn[86]\u001b[39m\u001b[32m, line 38\u001b[39m\n\u001b[32m     33\u001b[39m     \u001b[38;5;28;01mif\u001b[39;00m valid_input == \u001b[38;5;28;01mFalse\u001b[39;00m:\n\u001b[32m     34\u001b[39m         \u001b[38;5;28;01mreturn\u001b[39;00m \u001b[38;5;28;01mNone\u001b[39;00m\n\u001b[32m---> \u001b[39m\u001b[32m38\u001b[39m \u001b[38;5;28mprint\u001b[39m(\u001b[43mhexToDec\u001b[49m\u001b[43m(\u001b[49m\u001b[33;43m\"\u001b[39;49m\u001b[33;43mabc\u001b[39;49m\u001b[33;43m\"\u001b[39;49m\u001b[43m)\u001b[49m)\n",
      "\u001b[36mCell\u001b[39m\u001b[36m \u001b[39m\u001b[32mIn[86]\u001b[39m\u001b[32m, line 30\u001b[39m, in \u001b[36mhexToDec\u001b[39m\u001b[34m(hex_num)\u001b[39m\n\u001b[32m     26\u001b[39m     \u001b[38;5;28;01melse\u001b[39;00m:\n\u001b[32m     27\u001b[39m         \u001b[38;5;66;03m# hex_out += (i ** hex_num.index())*hex_dict.values(hex_num[i].lower())\u001b[39;00m\n\u001b[32m     28\u001b[39m         \u001b[38;5;66;03m# print(f\"{i} and {hex_num.index()}\")\u001b[39;00m\n\u001b[32m     29\u001b[39m         \u001b[38;5;28mprint\u001b[39m(i)\n\u001b[32m---> \u001b[39m\u001b[32m30\u001b[39m         \u001b[38;5;28mprint\u001b[39m(\u001b[43mhex_num\u001b[49m\u001b[43m[\u001b[49m\u001b[43mi\u001b[49m\u001b[43m]\u001b[49m\u001b[43m.\u001b[49m\u001b[43mindex\u001b[49m\u001b[43m(\u001b[49m\u001b[43m)\u001b[49m)\n\u001b[32m     31\u001b[39m         \u001b[38;5;28;01mpass\u001b[39;00m\n\u001b[32m     33\u001b[39m \u001b[38;5;28;01mif\u001b[39;00m valid_input == \u001b[38;5;28;01mFalse\u001b[39;00m:\n",
      "\u001b[31mTypeError\u001b[39m: index expected at least 1 argument, got 0"
     ]
    }
   ],
   "source": [
    "def hexToDec(hex_num:str):\n",
    "    hex_dict = {'1' : 1,\n",
    "               '2' : 2,\n",
    "               '3' : 3,\n",
    "               '4' : 4,\n",
    "               '5' : 5,\n",
    "               '6' : 6,\n",
    "               '7' : 7,\n",
    "               '8' : 8,\n",
    "               '9' : 9,\n",
    "               'a' : 10,\n",
    "               'b' : 11,\n",
    "               'c' : 12,\n",
    "               'd' : 13,\n",
    "               'e' : 14,\n",
    "               'f' : 15\n",
    "               }\n",
    "    valid_input = True\n",
    "    hex_out = 0\n",
    "    count = 0\n",
    "\n",
    "\n",
    "    for i in reversed(range(0,len(hex_num))):\n",
    "        if hex_num[i].lower() not in hex_dict:\n",
    "            valid_input = False\n",
    "            break\n",
    "        else:\n",
    "            hex_out += (i ** count)*hex_dict.values(hex_num[i].lower())\n",
    "            print(f\"{i} and {hex_num.index()}\")\n",
    "            print(i)\n",
    "            pass\n",
    "    \n",
    "    if valid_input == False:\n",
    "        return None\n",
    "    \n",
    "  \n",
    "\n",
    "print(hexToDec(\"abc\"))"
   ]
  },
  {
   "cell_type": "code",
   "execution_count": null,
   "id": "750e1041",
   "metadata": {},
   "outputs": [],
   "source": []
  }
 ],
 "metadata": {
  "kernelspec": {
   "display_name": ".venv",
   "language": "python",
   "name": "python3"
  },
  "language_info": {
   "codemirror_mode": {
    "name": "ipython",
    "version": 3
   },
   "file_extension": ".py",
   "mimetype": "text/x-python",
   "name": "python",
   "nbconvert_exporter": "python",
   "pygments_lexer": "ipython3",
   "version": "3.13.3"
  }
 },
 "nbformat": 4,
 "nbformat_minor": 5
}
