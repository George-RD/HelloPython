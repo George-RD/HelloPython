{
 "cells": [
  {
   "cell_type": "markdown",
   "id": "57e42256",
   "metadata": {},
   "source": [
    "# Factorial\n",
    "\n",
    "Write a function that returns the factorial of a number passed in.\n",
    "\n",
    "Return None for invalid input.\n",
    "\n",
    "5! = 5 * 4 * 3 * 2 * 1 = 120\n",
    "\n",
    "```python\n",
    "\n",
    "# Python code​​​​​​‌‌​‌​‌​‌‌​‌​​‌‌‌​​​‌​​​‌‌ below\n",
    "\n",
    "def factorial(num):\n",
    "    # Your code goes here.\n",
    "    pass   # placeholder for future code, prevents error when no code defined in function or loop.\n",
    "\n",
    "```"
   ]
  },
  {
   "cell_type": "code",
   "execution_count": 59,
   "id": "1b171cbf",
   "metadata": {},
   "outputs": [
    {
     "name": "stdout",
     "output_type": "stream",
     "text": [
      "120\n",
      "120\n"
     ]
    }
   ],
   "source": [
    "def factorial(num):\n",
    "    if type(num) == int and num > 0:\n",
    "        num_factorial = 1\n",
    "        for i in range(1,num+1):\n",
    "            num_factorial = num_factorial * i\n",
    "        return num_factorial\n",
    "    elif num == 0:\n",
    "        return 1\n",
    "    else:\n",
    "        return None\n",
    "\n",
    "print(factorial(int(input(\"Find the factorial for:\"))))\n",
    "\n",
    "# Alternative:\n",
    "\n",
    "def factorial2(num):\n",
    "    if type(num) == int and num > 0:\n",
    "        return num * factorial2(num - 1)\n",
    "    elif num == 0:\n",
    "        return 1\n",
    "    else:\n",
    "        return None\n",
    "\n",
    "print(factorial2(int(input(\"Find the factorial for:\"))))\n",
    "\n"
   ]
  }
 ],
 "metadata": {
  "kernelspec": {
   "display_name": ".venv",
   "language": "python",
   "name": "python3"
  },
  "language_info": {
   "codemirror_mode": {
    "name": "ipython",
    "version": 3
   },
   "file_extension": ".py",
   "mimetype": "text/x-python",
   "name": "python",
   "nbconvert_exporter": "python",
   "pygments_lexer": "ipython3",
   "version": "3.13.3"
  }
 },
 "nbformat": 4,
 "nbformat_minor": 5
}
