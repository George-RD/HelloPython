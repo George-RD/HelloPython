{
 "cells": [
  {
   "cell_type": "code",
   "execution_count": 8,
   "id": "e06b2b5b",
   "metadata": {},
   "outputs": [
    {
     "name": "stdout",
     "output_type": "stream",
     "text": [
      "a is less than or equal to b\n"
     ]
    }
   ],
   "source": [
    "a = 200\n",
    "b = 200\n",
    "\n",
    "if a > b :\n",
    "    print(\"a is greater than b\")\n",
    "else:\n",
    "    print(\"a is less than or equal to b\")"
   ]
  },
  {
   "cell_type": "code",
   "execution_count": 13,
   "id": "f98f16ef",
   "metadata": {},
   "outputs": [],
   "source": [
    "x = 49\n",
    "if x > 50:\n",
    "    print(\"x is greater than 50\")\n",
    "    if x > 70:\n",
    "        print(\" and also greater than 70\")\n",
    "    else:\n",
    "        print(\" but not greater than 70\")"
   ]
  },
  {
   "cell_type": "markdown",
   "id": "3b1bc938",
   "metadata": {},
   "source": [
    "# Looping\n",
    "## while Loop"
   ]
  },
  {
   "cell_type": "code",
   "execution_count": 22,
   "id": "5927315e",
   "metadata": {},
   "outputs": [
    {
     "name": "stdout",
     "output_type": "stream",
     "text": [
      "<class 'int'>\n",
      "-4\n",
      "<class 'float'>\n",
      "-1.5\n",
      "<class 'float'>\n",
      "1.0\n",
      "<class 'float'>\n",
      "3.5\n",
      "<class 'float'>\n",
      "6.0\n",
      "<class 'float'>\n",
      "8.5\n",
      "<class 'float'>\n"
     ]
    }
   ],
   "source": [
    "i = -4\n",
    "print(type(i))\n",
    "while i<=10:\n",
    "    print(i)\n",
    "    i += 2.5\n",
    "    print(type(i))\n"
   ]
  },
  {
   "cell_type": "code",
   "execution_count": 27,
   "id": "1c6481f1",
   "metadata": {},
   "outputs": [
    {
     "name": "stdout",
     "output_type": "stream",
     "text": [
      "<class 'int'>\n",
      "-4\n",
      "0\n",
      "4\n",
      "8\n",
      "12\n",
      "16\n",
      "20\n",
      "24\n",
      "28\n",
      "32\n",
      "36\n",
      "40\n",
      "44\n",
      "48\n",
      "52\n",
      "56\n",
      "60\n",
      "64\n",
      "68\n",
      "72\n",
      "76\n",
      "80\n",
      "84\n",
      "88\n",
      "92\n",
      "96\n",
      "100\n"
     ]
    }
   ],
   "source": [
    "i = -4\n",
    "print(type(i))\n",
    "while i<=100:\n",
    "    print(i)\n",
    "    i += 4\n",
    "    if i == 50:\n",
    "        break\n"
   ]
  },
  {
   "cell_type": "code",
   "execution_count": null,
   "id": "50d8e270",
   "metadata": {},
   "outputs": [
    {
     "name": "stdout",
     "output_type": "stream",
     "text": [
      "1\n",
      "2\n",
      "4\n",
      "5\n",
      "6\n"
     ]
    }
   ],
   "source": [
    "i=0\n",
    "while i<6:\n",
    "    i+=1\n",
    "    if i == :\n",
    "        continue\n",
    "    print(i)\n"
   ]
  },
  {
   "cell_type": "code",
   "execution_count": 29,
   "id": "c550a1bc",
   "metadata": {},
   "outputs": [
    {
     "name": "stdout",
     "output_type": "stream",
     "text": [
      "1\n",
      "2\n",
      "3\n",
      "4\n",
      "5\n",
      "6\n",
      "7\n",
      "8\n",
      "9\n"
     ]
    }
   ],
   "source": [
    "for i in range(1, 10):\n",
    "    print(i)\n",
    "    "
   ]
  },
  {
   "cell_type": "code",
   "execution_count": null,
   "id": "f872d5a4",
   "metadata": {},
   "outputs": [
    {
     "name": "stdout",
     "output_type": "stream",
     "text": [
      "honda\n",
      "bmw\n",
      "chevorlet\n",
      "honda\n",
      "bmw\n",
      "chevorlet\n",
      "honda\n",
      "bmw\n",
      "chevorlet\n",
      "honda\n",
      "bmw\n",
      "chevorlet\n",
      "honda\n",
      "bmw\n",
      "chevorlet\n"
     ]
    }
   ],
   "source": [
    "list1 = [\"honda\",\"bmw\",\"chevorlet\"]\n",
    "list1 = list1 * 5\n",
    "for i in list1:\n",
    "    print(i)\n"
   ]
  },
  {
   "cell_type": "code",
   "execution_count": 54,
   "id": "da383ced",
   "metadata": {},
   "outputs": [
    {
     "name": "stdout",
     "output_type": "stream",
     "text": [
      "honda\n",
      "chevorlet\n",
      "honda\n",
      "chevorlet\n",
      "honda\n",
      "chevorlet\n",
      "honda\n",
      "chevorlet\n",
      "honda\n",
      "chevorlet\n",
      "There are 5 BMS's Missing!\n"
     ]
    }
   ],
   "source": [
    "list1 = [\"honda\",\"bmw\",\"chevorlet\"]\n",
    "list1 = list1 * 10\n",
    "count = 0\n",
    "for i in list1:\n",
    "    if i == \"bmw\":\n",
    "        count += 1\n",
    "        continue\n",
    "    print(i)\n",
    "    if count == 5:\n",
    "        break\n",
    "print(f\"There are {count} BMS's Missing!\")"
   ]
  },
  {
   "cell_type": "code",
   "execution_count": 58,
   "id": "55f8926a",
   "metadata": {},
   "outputs": [
    {
     "name": "stdout",
     "output_type": "stream",
     "text": [
      "odd number\n"
     ]
    }
   ],
   "source": [
    "num=int(input(\"Enter a number:\"))\n",
    "if (num%2==0):\n",
    "    print(\"Even Number\")\n",
    "else:\n",
    "    print(\"odd number\")"
   ]
  },
  {
   "cell_type": "markdown",
   "id": "9ad2a83a",
   "metadata": {},
   "source": [
    "# Exercise - Add all even numbers between 1 and 100"
   ]
  },
  {
   "cell_type": "code",
   "execution_count": null,
   "id": "2de65441",
   "metadata": {},
   "outputs": [
    {
     "name": "stdout",
     "output_type": "stream",
     "text": [
      "sum of Evens are: 2450\n",
      "sum of Odds are: 2500\n",
      "Total primes: 25\n",
      "The primes found are: [2, 3, 5, 7, 11, 13, 17, 19, 23, 29, 31, 37, 41, 43, 47, 53, 59, 61, 67, 71, 73, 79, 83, 89, 97]\n"
     ]
    }
   ],
   "source": [
    "num = int(input(\"Enter a number:\"))\n",
    "evens = 0\n",
    "odds = 0\n",
    "primes = 0\n",
    "primelist = []\n",
    "for i in range(0,num):\n",
    "    if i%2==0:\n",
    "        evens += i\n",
    "    else:\n",
    "        odds += i\n",
    "    isprime = True\n",
    "    if i == 0 or i == 1:\n",
    "        isprime = False\n",
    "    else:\n",
    "        for j in range(2,int(i ** 0.5) + 1):  \n",
    "            if i % j == 0:\n",
    "                isprime = False\n",
    "\n",
    "    if isprime:\n",
    "        primes += 1\n",
    "        primelist.append(i)\n",
    "print(f\"sum of Evens are: {evens}\")\n",
    "print(f\"sum of Odds are: {odds}\")\n",
    "print(f\"Total primes: {primes}\")\n",
    "print(f\"The primes found are: {primelist}\")\n",
    "\n",
    "\n",
    "\n",
    "\n"
   ]
  },
  {
   "cell_type": "code",
   "execution_count": null,
   "id": "37a0b86d",
   "metadata": {},
   "outputs": [],
   "source": []
  }
 ],
 "metadata": {
  "kernelspec": {
   "display_name": ".venv",
   "language": "python",
   "name": "python3"
  },
  "language_info": {
   "codemirror_mode": {
    "name": "ipython",
    "version": 3
   },
   "file_extension": ".py",
   "mimetype": "text/x-python",
   "name": "python",
   "nbconvert_exporter": "python",
   "pygments_lexer": "ipython3",
   "version": "3.13.3"
  }
 },
 "nbformat": 4,
 "nbformat_minor": 5
}
