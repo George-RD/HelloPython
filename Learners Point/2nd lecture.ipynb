{
 "cells": [
  {
   "cell_type": "markdown",
   "id": "193783bc",
   "metadata": {},
   "source": [
    "# Data Science with Python\n",
    "\n",
    "## NumPy\n",
    "- Scientific and Numerical Computing in Python\n",
    "- Powerful N-Dimensional Arrays\n",
    "- Easy to Use\n",
    "- Perfromant (core is C/C++)\n",
    "- Wide range of hardware/computing, works with GPU etc.\n",
    "  \n",
    "## Array"
   ]
  },
  {
   "cell_type": "code",
   "execution_count": 104,
   "id": "8fba5e94",
   "metadata": {},
   "outputs": [
    {
     "name": "stdout",
     "output_type": "stream",
     "text": [
      "2.2.6\n"
     ]
    }
   ],
   "source": [
    "import numpy as np\n",
    "\n",
    "print(np.__version__)"
   ]
  },
  {
   "cell_type": "code",
   "execution_count": 105,
   "id": "e6e8da8d",
   "metadata": {},
   "outputs": [],
   "source": [
    "l1 = [1,2,3,4,5,6,7]"
   ]
  },
  {
   "cell_type": "code",
   "execution_count": 106,
   "id": "8cfcaee6",
   "metadata": {},
   "outputs": [
    {
     "data": {
      "text/plain": [
       "array([1, 2, 3, 4, 5, 6, 7])"
      ]
     },
     "execution_count": 106,
     "metadata": {},
     "output_type": "execute_result"
    }
   ],
   "source": [
    "a1 = np.array(l1)\n",
    "a1"
   ]
  },
  {
   "cell_type": "code",
   "execution_count": 107,
   "id": "900bde32",
   "metadata": {},
   "outputs": [
    {
     "data": {
      "text/plain": [
       "numpy.ndarray"
      ]
     },
     "execution_count": 107,
     "metadata": {},
     "output_type": "execute_result"
    }
   ],
   "source": [
    "type(a1)"
   ]
  },
  {
   "cell_type": "code",
   "execution_count": 108,
   "id": "14789d78",
   "metadata": {},
   "outputs": [
    {
     "data": {
      "text/plain": [
       "(7,)"
      ]
     },
     "execution_count": 108,
     "metadata": {},
     "output_type": "execute_result"
    }
   ],
   "source": [
    "np.shape(a1)"
   ]
  },
  {
   "cell_type": "code",
   "execution_count": 109,
   "id": "df2d77e4",
   "metadata": {},
   "outputs": [
    {
     "data": {
      "text/plain": [
       "array([[1, 2, 3],\n",
       "       [4, 5, 6]])"
      ]
     },
     "execution_count": 109,
     "metadata": {},
     "output_type": "execute_result"
    }
   ],
   "source": [
    "a2 = np.array([[1,2,3],[4,5,6]])\n",
    "a2"
   ]
  },
  {
   "cell_type": "code",
   "execution_count": 110,
   "id": "2afff9bf",
   "metadata": {},
   "outputs": [
    {
     "data": {
      "text/plain": [
       "(2, 3)"
      ]
     },
     "execution_count": 110,
     "metadata": {},
     "output_type": "execute_result"
    }
   ],
   "source": [
    "np.shape(a2)"
   ]
  },
  {
   "cell_type": "code",
   "execution_count": 111,
   "id": "bb68ff61",
   "metadata": {},
   "outputs": [
    {
     "name": "stdout",
     "output_type": "stream",
     "text": [
      "5\n",
      "6\n",
      "4\n",
      "2\n"
     ]
    }
   ],
   "source": [
    "print(a2[1,1])\n",
    "print(a2[1,2])\n",
    "print(a2[1,0])\n",
    "print(a2[0,1])"
   ]
  },
  {
   "cell_type": "code",
   "execution_count": 112,
   "id": "c546de84",
   "metadata": {},
   "outputs": [
    {
     "data": {
      "text/plain": [
       "array([[[ 1,  2],\n",
       "        [ 3,  4]],\n",
       "\n",
       "       [[ 5,  6],\n",
       "        [ 7,  8]],\n",
       "\n",
       "       [[ 9, 10],\n",
       "        [11, 12]]])"
      ]
     },
     "execution_count": 112,
     "metadata": {},
     "output_type": "execute_result"
    }
   ],
   "source": [
    "a3 = np.array([[[1,2],[3,4]],[[5,6],[7,8]],[[9,10],[11,12]]])\n",
    "a3 = np.array([\n",
    "                [[1,2],[3,4]],\n",
    "                [[5,6],[7,8]],\n",
    "                [[9,10],[11,12]]\n",
    "                ])\n",
    "\n",
    "a3"
   ]
  },
  {
   "cell_type": "code",
   "execution_count": 113,
   "id": "931b81ff",
   "metadata": {},
   "outputs": [
    {
     "data": {
      "text/plain": [
       "(3, 2, 2)"
      ]
     },
     "execution_count": 113,
     "metadata": {},
     "output_type": "execute_result"
    }
   ],
   "source": [
    "np.shape(a3)"
   ]
  },
  {
   "cell_type": "code",
   "execution_count": 114,
   "id": "211ed93a",
   "metadata": {},
   "outputs": [
    {
     "data": {
      "text/plain": [
       "array([[[ 1,  2,  1],\n",
       "        [ 3,  4,  2]],\n",
       "\n",
       "       [[ 5,  6,  3],\n",
       "        [ 7,  8,  4]],\n",
       "\n",
       "       [[ 9, 10,  5],\n",
       "        [11, 12,  6]]])"
      ]
     },
     "execution_count": 114,
     "metadata": {},
     "output_type": "execute_result"
    }
   ],
   "source": [
    "a3b = np.array([\n",
    "                [[1,2,1],\n",
    "                 [3,4,2]],\n",
    "                [[5,6,3],\n",
    "                 [7,8,4]],\n",
    "                [[9,10,5],\n",
    "                 [11,12,6]]\n",
    "                ])\n",
    "\n",
    "a3b"
   ]
  },
  {
   "cell_type": "code",
   "execution_count": 115,
   "id": "bcad9805",
   "metadata": {},
   "outputs": [
    {
     "data": {
      "text/plain": [
       "(3, 2, 3)"
      ]
     },
     "execution_count": 115,
     "metadata": {},
     "output_type": "execute_result"
    }
   ],
   "source": [
    "np.shape(a3b)"
   ]
  },
  {
   "cell_type": "code",
   "execution_count": 116,
   "id": "a8bc6221",
   "metadata": {},
   "outputs": [
    {
     "data": {
      "text/plain": [
       "(array([0, 0]), array([0, 1]), array([1, 2]))"
      ]
     },
     "execution_count": 116,
     "metadata": {},
     "output_type": "execute_result"
    }
   ],
   "source": [
    "np.where(a3b==2)"
   ]
  },
  {
   "cell_type": "code",
   "execution_count": 117,
   "id": "926e961e",
   "metadata": {},
   "outputs": [
    {
     "data": {
      "text/plain": [
       "(array([2]), array([1]), array([1]))"
      ]
     },
     "execution_count": 117,
     "metadata": {},
     "output_type": "execute_result"
    }
   ],
   "source": [
    "np.where(a3b==12)"
   ]
  },
  {
   "cell_type": "code",
   "execution_count": 118,
   "id": "280a005c",
   "metadata": {},
   "outputs": [
    {
     "data": {
      "text/plain": [
       "(array([], dtype=int64), array([], dtype=int64), array([], dtype=int64))"
      ]
     },
     "execution_count": 118,
     "metadata": {},
     "output_type": "execute_result"
    }
   ],
   "source": [
    "np.where(a3b==30)"
   ]
  },
  {
   "cell_type": "code",
   "execution_count": 119,
   "id": "a4592f11",
   "metadata": {},
   "outputs": [
    {
     "data": {
      "text/plain": [
       "array([0., 0., 0., 0.])"
      ]
     },
     "execution_count": 119,
     "metadata": {},
     "output_type": "execute_result"
    }
   ],
   "source": [
    "z1 = np.zeros(4)\n",
    "z1"
   ]
  },
  {
   "cell_type": "code",
   "execution_count": 120,
   "id": "6663ae81",
   "metadata": {},
   "outputs": [
    {
     "data": {
      "text/plain": [
       "array([[0., 0., 0., 0.],\n",
       "       [0., 0., 0., 0.],\n",
       "       [0., 0., 0., 0.]])"
      ]
     },
     "execution_count": 120,
     "metadata": {},
     "output_type": "execute_result"
    }
   ],
   "source": [
    "z2 = np.zeros((3,4))\n",
    "z2"
   ]
  },
  {
   "cell_type": "code",
   "execution_count": 121,
   "id": "c565f618",
   "metadata": {},
   "outputs": [
    {
     "data": {
      "text/plain": [
       "array([[[1],\n",
       "        [1],\n",
       "        [1]],\n",
       "\n",
       "       [[1],\n",
       "        [1],\n",
       "        [1]]])"
      ]
     },
     "execution_count": 121,
     "metadata": {},
     "output_type": "execute_result"
    }
   ],
   "source": [
    "ones1 = np.ones((2,3,1),dtype=int)\n",
    "ones1"
   ]
  },
  {
   "cell_type": "markdown",
   "id": "baf3c788",
   "metadata": {},
   "source": [
    "## Matrix\n",
    "\n",
    "[1, 2]  row matrix\n",
    "\n",
    "_   _\n",
    "| 1 |\n",
    "| 2 |     column matrix\n",
    "-   -\n",
    "\n",
    "## Scalar\n",
    "\n",
    "Has magnitude, not direction. Single value\n",
    "\n",
    "## Vector\n",
    "Has direction and magnitude\n",
    "\n",
    "## Matrix Multiplication\n",
    "Number of rows in the first matrix, needs to be same as the number of columns in the second matrix"
   ]
  },
  {
   "cell_type": "code",
   "execution_count": 122,
   "id": "18642292",
   "metadata": {},
   "outputs": [
    {
     "data": {
      "text/plain": [
       "18"
      ]
     },
     "execution_count": 122,
     "metadata": {},
     "output_type": "execute_result"
    }
   ],
   "source": [
    "# Matrix Addition\n",
    "\n",
    "# matrix multiplication\n",
    "from random import randint\n",
    "\n",
    "a6 = np.random.randint(10,100,)   # low num, high num, size\n",
    "a6"
   ]
  },
  {
   "cell_type": "code",
   "execution_count": 123,
   "id": "911cbe77",
   "metadata": {},
   "outputs": [
    {
     "data": {
      "text/plain": [
       "array([[[32, 76],\n",
       "        [93, 56]],\n",
       "\n",
       "       [[17, 59],\n",
       "        [72, 20]]])"
      ]
     },
     "execution_count": 123,
     "metadata": {},
     "output_type": "execute_result"
    }
   ],
   "source": [
    "a7 = np.random.randint(10,100,(2,2,2))\n",
    "a7"
   ]
  },
  {
   "cell_type": "code",
   "execution_count": 124,
   "id": "9e54298f",
   "metadata": {},
   "outputs": [
    {
     "data": {
      "text/plain": [
       "array([[13, 23,  9],\n",
       "       [24, 14, 14]])"
      ]
     },
     "execution_count": 124,
     "metadata": {},
     "output_type": "execute_result"
    }
   ],
   "source": [
    "arr1 = np.random.randint(1,30, size=(2,3))\n",
    "arr1"
   ]
  },
  {
   "cell_type": "code",
   "execution_count": 125,
   "id": "2a225b36",
   "metadata": {},
   "outputs": [
    {
     "data": {
      "text/plain": [
       "array([[33, 28, 31],\n",
       "       [30, 31, 38]])"
      ]
     },
     "execution_count": 125,
     "metadata": {},
     "output_type": "execute_result"
    }
   ],
   "source": [
    "arr2 = np.random.randint(20,40,(2,3))\n",
    "arr2"
   ]
  },
  {
   "cell_type": "code",
   "execution_count": 126,
   "id": "9bc8b30e",
   "metadata": {},
   "outputs": [
    {
     "data": {
      "text/plain": [
       "array([45, 52])"
      ]
     },
     "execution_count": 126,
     "metadata": {},
     "output_type": "execute_result"
    }
   ],
   "source": [
    "ans = np.sum(arr1,1)\n",
    "ans"
   ]
  },
  {
   "cell_type": "code",
   "execution_count": 127,
   "id": "445a748e",
   "metadata": {},
   "outputs": [
    {
     "data": {
      "text/plain": [
       "array([[46, 51, 40],\n",
       "       [54, 45, 52]])"
      ]
     },
     "execution_count": 127,
     "metadata": {},
     "output_type": "execute_result"
    }
   ],
   "source": [
    "arr = np.add(arr1,arr2)\n",
    "arr"
   ]
  },
  {
   "cell_type": "code",
   "execution_count": 128,
   "id": "2c5c95d2",
   "metadata": {},
   "outputs": [
    {
     "name": "stdout",
     "output_type": "stream",
     "text": [
      "[[19 19 19]\n",
      " [54 45 52]] \n",
      "\n",
      "[[46 51 40]\n",
      " [54 45 52]]\n"
     ]
    }
   ],
   "source": [
    "x = arr.copy()\n",
    "arr[0] = 19\n",
    "print(arr,\"\\n\")\n",
    "print(x)"
   ]
  },
  {
   "cell_type": "code",
   "execution_count": 129,
   "id": "9725d34e",
   "metadata": {},
   "outputs": [
    {
     "data": {
      "text/plain": [
       "array([[19, 19, 19],\n",
       "       [54, 45, 52]])"
      ]
     },
     "execution_count": 129,
     "metadata": {},
     "output_type": "execute_result"
    }
   ],
   "source": [
    "y = arr.view()   # acts like a pointer\n",
    "y"
   ]
  },
  {
   "cell_type": "code",
   "execution_count": 130,
   "id": "d3a3b11e",
   "metadata": {},
   "outputs": [
    {
     "data": {
      "text/plain": [
       "array([[ 19, 999,  19],\n",
       "       [ 54,  45,  52]])"
      ]
     },
     "execution_count": 130,
     "metadata": {},
     "output_type": "execute_result"
    }
   ],
   "source": [
    "arr[0,1]=999\n",
    "y"
   ]
  },
  {
   "cell_type": "code",
   "execution_count": 131,
   "id": "4134d8ff",
   "metadata": {},
   "outputs": [
    {
     "name": "stdout",
     "output_type": "stream",
     "text": [
      "[[  0 999  19]\n",
      " [ 54  45  52]] \n",
      "\n"
     ]
    }
   ],
   "source": [
    "y[0,0] = 0\n",
    "print(arr,\"\\n\")"
   ]
  },
  {
   "cell_type": "code",
   "execution_count": 137,
   "id": "852aba82",
   "metadata": {},
   "outputs": [
    {
     "data": {
      "text/plain": [
       "array([[ 1, 23,  4,  5,  6],\n",
       "       [ 2,  3,  2,  4,  5]])"
      ]
     },
     "execution_count": 137,
     "metadata": {},
     "output_type": "execute_result"
    }
   ],
   "source": [
    "arr1 = np.array([[1,23,4,5,6],[2,3,2,4,5]])\n",
    "arr1"
   ]
  },
  {
   "cell_type": "code",
   "execution_count": null,
   "id": "b7e20dcb",
   "metadata": {},
   "outputs": [
    {
     "data": {
      "text/plain": [
       "array([[ 1, 23],\n",
       "       [ 4,  5],\n",
       "       [ 6,  2],\n",
       "       [ 3,  2],\n",
       "       [ 4,  5]])"
      ]
     },
     "execution_count": 139,
     "metadata": {},
     "output_type": "execute_result"
    }
   ],
   "source": [
    "arrreshaped = arr1.reshape(5,2)\n",
    "arrreshaped"
   ]
  },
  {
   "cell_type": "code",
   "execution_count": 141,
   "id": "f16db72d",
   "metadata": {},
   "outputs": [
    {
     "ename": "ValueError",
     "evalue": "cannot reshape array of size 10 into shape (2,3,2)",
     "output_type": "error",
     "traceback": [
      "\u001b[31m---------------------------------------------------------------------------\u001b[39m",
      "\u001b[31mValueError\u001b[39m                                Traceback (most recent call last)",
      "\u001b[36mCell\u001b[39m\u001b[36m \u001b[39m\u001b[32mIn[141]\u001b[39m\u001b[32m, line 2\u001b[39m\n\u001b[32m      1\u001b[39m a = np.array([\u001b[32m1\u001b[39m,\u001b[32m2\u001b[39m,\u001b[32m3\u001b[39m,\u001b[32m4\u001b[39m,\u001b[32m5\u001b[39m,\u001b[32m6\u001b[39m,\u001b[32m7\u001b[39m,\u001b[32m8\u001b[39m,\u001b[32m9\u001b[39m,\u001b[32m10\u001b[39m])\n\u001b[32m----> \u001b[39m\u001b[32m2\u001b[39m a11 = \u001b[43ma\u001b[49m\u001b[43m.\u001b[49m\u001b[43mreshape\u001b[49m\u001b[43m(\u001b[49m\u001b[32;43m2\u001b[39;49m\u001b[43m,\u001b[49m\u001b[32;43m3\u001b[39;49m\u001b[43m,\u001b[49m\u001b[32;43m2\u001b[39;49m\u001b[43m)\u001b[49m\n\u001b[32m      3\u001b[39m a11\n",
      "\u001b[31mValueError\u001b[39m: cannot reshape array of size 10 into shape (2,3,2)"
     ]
    }
   ],
   "source": [
    "a = np.array([1,2,3,4,5,6,7,8,9,10])\n",
    "a11 = a.reshape(2,3,2)\n",
    "a11"
   ]
  },
  {
   "cell_type": "code",
   "execution_count": 143,
   "id": "a56921eb",
   "metadata": {},
   "outputs": [
    {
     "data": {
      "text/plain": [
       "array([[[ 1,  2],\n",
       "        [ 3,  4],\n",
       "        [ 5,  6]],\n",
       "\n",
       "       [[ 7,  8],\n",
       "        [ 9, 10],\n",
       "        [11, 12]]])"
      ]
     },
     "execution_count": 143,
     "metadata": {},
     "output_type": "execute_result"
    }
   ],
   "source": [
    "a = np.array([1,2,3,4,5,6,7,8,9,10,11,12])\n",
    "a11 = a.reshape(2,3,2)    # 2x3x2 is 12 element array, so need additional in the array\n",
    "a11"
   ]
  },
  {
   "cell_type": "code",
   "execution_count": 152,
   "id": "d1b2c29e",
   "metadata": {},
   "outputs": [
    {
     "name": "stdout",
     "output_type": "stream",
     "text": [
      "[[1 2]\n",
      " [3 4]\n",
      " [5 6]]\n",
      "[[ 7  8]\n",
      " [ 9 10]\n",
      " [11 12]]\n"
     ]
    }
   ],
   "source": [
    "for element in a11:\n",
    "    print(element)"
   ]
  },
  {
   "cell_type": "code",
   "execution_count": 145,
   "id": "bd057a11",
   "metadata": {},
   "outputs": [
    {
     "name": "stdout",
     "output_type": "stream",
     "text": [
      "[1 2]\n",
      "[3 4]\n",
      "[5 6]\n",
      "[7 8]\n",
      "[ 9 10]\n",
      "[11 12]\n"
     ]
    }
   ],
   "source": [
    "for element in a11:\n",
    "    for element in element:\n",
    "        print(element)"
   ]
  },
  {
   "cell_type": "code",
   "execution_count": 146,
   "id": "67fb8fc2",
   "metadata": {},
   "outputs": [
    {
     "name": "stdout",
     "output_type": "stream",
     "text": [
      "1\n",
      "2\n",
      "3\n",
      "4\n",
      "5\n",
      "6\n",
      "7\n",
      "8\n",
      "9\n",
      "10\n",
      "11\n",
      "12\n"
     ]
    }
   ],
   "source": [
    "for element in a11:\n",
    "    for element in element:\n",
    "        for element in element:\n",
    "            print(element)"
   ]
  },
  {
   "cell_type": "code",
   "execution_count": 153,
   "id": "4ab7ffd1",
   "metadata": {},
   "outputs": [
    {
     "name": "stdout",
     "output_type": "stream",
     "text": [
      "1\n",
      "2\n",
      "3\n",
      "4\n",
      "5\n",
      "6\n",
      "7\n",
      "8\n",
      "9\n",
      "10\n",
      "11\n",
      "12\n"
     ]
    }
   ],
   "source": [
    "for element in np.nditer(a11):\n",
    "    print(element)"
   ]
  },
  {
   "cell_type": "code",
   "execution_count": 157,
   "id": "2e842e9b",
   "metadata": {},
   "outputs": [
    {
     "data": {
      "text/plain": [
       "array([ 1,  2,  3,  4,  7,  8,  9, 10])"
      ]
     },
     "execution_count": 157,
     "metadata": {},
     "output_type": "execute_result"
    }
   ],
   "source": [
    "ar1 = np.array([1,2,3,4])\n",
    "ar2 = np.array([7,8,9,10])\n",
    "com = np.concatenate((ar1,ar2))\n",
    "com"
   ]
  },
  {
   "cell_type": "code",
   "execution_count": 158,
   "id": "c6708432",
   "metadata": {},
   "outputs": [
    {
     "data": {
      "text/plain": [
       "array([[ 1,  2],\n",
       "       [ 3,  4],\n",
       "       [ 7,  8],\n",
       "       [ 9, 10]])"
      ]
     },
     "execution_count": 158,
     "metadata": {},
     "output_type": "execute_result"
    }
   ],
   "source": [
    "ar1 = np.array([[1,2],[3,4]])\n",
    "ar2 = np.array([[7,8],[9,10]])\n",
    "com = np.concatenate((ar1,ar2))\n",
    "com"
   ]
  },
  {
   "cell_type": "code",
   "execution_count": 160,
   "id": "cc9c28ab",
   "metadata": {},
   "outputs": [
    {
     "data": {
      "text/plain": [
       "array([[ 1,  2,  7,  8],\n",
       "       [ 3,  4,  9, 10]])"
      ]
     },
     "execution_count": 160,
     "metadata": {},
     "output_type": "execute_result"
    }
   ],
   "source": [
    "ar1 = np.array([[1,2],[3,4]])\n",
    "ar2 = np.array([[7,8],[9,10]])\n",
    "com = np.concatenate((ar1,ar2),axis = 1)\n",
    "com"
   ]
  },
  {
   "cell_type": "code",
   "execution_count": null,
   "id": "4d29f300",
   "metadata": {},
   "outputs": [
    {
     "data": {
      "text/plain": [
       "array([[ 1,  2],\n",
       "       [ 3,  4],\n",
       "       [ 7,  8],\n",
       "       [ 9, 10]])"
      ]
     },
     "execution_count": 161,
     "metadata": {},
     "output_type": "execute_result"
    }
   ],
   "source": [
    "ar1 = np.array([[1,2],[3,4]])\n",
    "ar2 = np.array([[7,8],[9,10]])\n",
    "com = np.concatenate((ar1,ar2),axis = 0) # axis 0 is default, for column\n",
    "com"
   ]
  },
  {
   "cell_type": "code",
   "execution_count": 167,
   "id": "819f5d4d",
   "metadata": {},
   "outputs": [
    {
     "ename": "AxisError",
     "evalue": "axis 90 is out of bounds for array of dimension 2",
     "output_type": "error",
     "traceback": [
      "\u001b[31m---------------------------------------------------------------------------\u001b[39m",
      "\u001b[31mAxisError\u001b[39m                                 Traceback (most recent call last)",
      "\u001b[36mCell\u001b[39m\u001b[36m \u001b[39m\u001b[32mIn[167]\u001b[39m\u001b[32m, line 3\u001b[39m\n\u001b[32m      1\u001b[39m ar1 = np.array([[\u001b[32m1\u001b[39m,\u001b[32m2\u001b[39m],[\u001b[32m3\u001b[39m,\u001b[32m4\u001b[39m]])\n\u001b[32m      2\u001b[39m ar2 = np.array([[\u001b[32m7\u001b[39m,\u001b[32m8\u001b[39m],[\u001b[32m9\u001b[39m,\u001b[32m10\u001b[39m]])\n\u001b[32m----> \u001b[39m\u001b[32m3\u001b[39m com = \u001b[43mnp\u001b[49m\u001b[43m.\u001b[49m\u001b[43mconcatenate\u001b[49m\u001b[43m(\u001b[49m\u001b[43m(\u001b[49m\u001b[43mar1\u001b[49m\u001b[43m,\u001b[49m\u001b[43mar2\u001b[49m\u001b[43m)\u001b[49m\u001b[43m,\u001b[49m\u001b[43maxis\u001b[49m\u001b[43m \u001b[49m\u001b[43m=\u001b[49m\u001b[43m \u001b[49m\u001b[32;43m90\u001b[39;49m\u001b[43m)\u001b[49m\n\u001b[32m      4\u001b[39m com\n",
      "\u001b[31mAxisError\u001b[39m: axis 90 is out of bounds for array of dimension 2"
     ]
    }
   ],
   "source": [
    "ar1 = np.array([[1,2],[3,4]])\n",
    "ar2 = np.array([[7,8],[9,10]])\n",
    "com = np.concatenate((ar1,ar2),axis = 90)\n",
    "com"
   ]
  },
  {
   "cell_type": "code",
   "execution_count": null,
   "id": "f8969834",
   "metadata": {},
   "outputs": [
    {
     "data": {
      "text/plain": [
       "array([[1, 2, 3, 4],\n",
       "       [5, 6, 7, 8]])"
      ]
     },
     "execution_count": 170,
     "metadata": {},
     "output_type": "execute_result"
    }
   ],
   "source": [
    "newarr1 = np.array([1,2,3,4])\n",
    "newarr2 = np.array([5,6,7,8])\n",
    "comarr = np.stack((newarr1,newarr2))\n",
    "comarr\n",
    "\n",
    "# stack converts the rows into columns\n"
   ]
  },
  {
   "cell_type": "code",
   "execution_count": 174,
   "id": "61954d27",
   "metadata": {},
   "outputs": [
    {
     "data": {
      "text/plain": [
       "array([1, 2, 3, 4, 5, 6, 7, 8])"
      ]
     },
     "execution_count": 174,
     "metadata": {},
     "output_type": "execute_result"
    }
   ],
   "source": [
    "horizontal_stack = np.hstack((newarr1,newarr2))\n",
    "horizontal_stack"
   ]
  },
  {
   "cell_type": "code",
   "execution_count": null,
   "id": "a7406b04",
   "metadata": {},
   "outputs": [
    {
     "data": {
      "text/plain": [
       "array([1, 2, 3, 4, 5, 6, 7, 8])"
      ]
     },
     "execution_count": 173,
     "metadata": {},
     "output_type": "execute_result"
    }
   ],
   "source": [
    "concatarr = np.concat((newarr1,newarr2),0)\n",
    "concatarr"
   ]
  },
  {
   "cell_type": "code",
   "execution_count": 177,
   "id": "f87f055c",
   "metadata": {},
   "outputs": [
    {
     "data": {
      "text/plain": [
       "[False,\n",
       " True,\n",
       " False,\n",
       " True,\n",
       " False,\n",
       " True,\n",
       " False,\n",
       " False,\n",
       " False,\n",
       " False,\n",
       " False,\n",
       " False]"
      ]
     },
     "execution_count": 177,
     "metadata": {},
     "output_type": "execute_result"
    }
   ],
   "source": [
    "arr = np.random.randint(1,40,12)\n",
    "filter_arr = []\n",
    "\n",
    "for element in arr:\n",
    "    if element%2 ==0:\n",
    "        filter_arr.append(True)\n",
    "    else:\n",
    "        filter_arr.append(False)\n",
    "filter_arr"
   ]
  },
  {
   "cell_type": "code",
   "execution_count": 188,
   "id": "5d9f47f2",
   "metadata": {},
   "outputs": [],
   "source": [
    "arr = np.array([20,10,3,8,9,4,5,7])\n"
   ]
  },
  {
   "cell_type": "code",
   "execution_count": 189,
   "id": "54729f05",
   "metadata": {},
   "outputs": [
    {
     "data": {
      "text/plain": [
       "[True, True, False, True, False, True, False, False]"
      ]
     },
     "execution_count": 189,
     "metadata": {},
     "output_type": "execute_result"
    }
   ],
   "source": [
    "filter_arr = []\n",
    "for element in arr:\n",
    "    if element%2 ==0:\n",
    "        filter_arr.append(True)\n",
    "    else:\n",
    "        filter_arr.append(False)\n",
    "filter_arr\n"
   ]
  },
  {
   "cell_type": "code",
   "execution_count": null,
   "id": "1e69ebce",
   "metadata": {},
   "outputs": [
    {
     "data": {
      "text/plain": [
       "array([20, 10,  8,  4])"
      ]
     },
     "execution_count": 190,
     "metadata": {},
     "output_type": "execute_result"
    }
   ],
   "source": [
    "newarr = arr[filter_arr]\n",
    "newarr"
   ]
  },
  {
   "cell_type": "code",
   "execution_count": 201,
   "id": "ff1b65c6",
   "metadata": {},
   "outputs": [
    {
     "data": {
      "text/plain": [
       "array([20, 10,  8,  4])"
      ]
     },
     "execution_count": 201,
     "metadata": {},
     "output_type": "execute_result"
    }
   ],
   "source": [
    "newarr = []\n",
    "for element in arr:\n",
    "    if element%2 ==0:\n",
    "        newarr.append(element)\n",
    "\n",
    "newarr = np.array(newarr)\n",
    "newarr"
   ]
  }
 ],
 "metadata": {
  "kernelspec": {
   "display_name": ".venv",
   "language": "python",
   "name": "python3"
  },
  "language_info": {
   "codemirror_mode": {
    "name": "ipython",
    "version": 3
   },
   "file_extension": ".py",
   "mimetype": "text/x-python",
   "name": "python",
   "nbconvert_exporter": "python",
   "pygments_lexer": "ipython3",
   "version": "3.13.3"
  }
 },
 "nbformat": 4,
 "nbformat_minor": 5
}
