{
 "cells": [
  {
   "cell_type": "code",
   "execution_count": 1,
   "id": "0d27a66e",
   "metadata": {},
   "outputs": [
    {
     "name": "stdout",
     "output_type": "stream",
     "text": [
      "hello\n"
     ]
    }
   ],
   "source": [
    "print('hello')\n"
   ]
  },
  {
   "cell_type": "markdown",
   "id": "c44a3726",
   "metadata": {},
   "source": [
    "# Data Types / Variables / Identifier\n",
    "Identifier is the name of the variable.\n",
    "\n",
    "## Numbers\n",
    "- integer\n",
    "- float\n",
    "- complex number\n",
    "  - 1+2j\n",
    "\n",
    "## Text\n",
    "- char \n",
    "\n",
    "## Assignment\n",
    "= is for assignment of variables."
   ]
  },
  {
   "cell_type": "code",
   "execution_count": 5,
   "id": "5b9b81d9",
   "metadata": {},
   "outputs": [
    {
     "name": "stdout",
     "output_type": "stream",
     "text": [
      "My integer is: \n",
      "10\n",
      "\n",
      "My float is:\n",
      "3.14\n",
      "\n",
      "My string is:\n",
      "Hello!\n"
     ]
    }
   ],
   "source": [
    "int_num = 10\n",
    "float_num = 3.14\n",
    "string = \"Hello!\"\n",
    "\n",
    "print(f\"My integer is: \\n{int_num}\\n\\nMy float is:\\n{float_num}\\n\\nMy string is:\\n{string}\")"
   ]
  },
  {
   "cell_type": "markdown",
   "id": "09375f48",
   "metadata": {},
   "source": [
    "# List / Tuple / Dictionairy\n",
    "Main types of collections we will use\n",
    "[List]\n",
    "{Dictionairy}\n",
    "(Tuple)"
   ]
  },
  {
   "cell_type": "code",
   "execution_count": 8,
   "id": "8652e135",
   "metadata": {},
   "outputs": [
    {
     "data": {
      "text/plain": [
       "['Rahima', 'Dubai', 28, 23.4]"
      ]
     },
     "execution_count": 8,
     "metadata": {},
     "output_type": "execute_result"
    }
   ],
   "source": [
    "person = ['Rahima', 'Dubai', 28, 23.4]\n",
    "person"
   ]
  },
  {
   "cell_type": "code",
   "execution_count": 10,
   "id": "cd510396",
   "metadata": {},
   "outputs": [
    {
     "name": "stdout",
     "output_type": "stream",
     "text": [
      "['Rahima', 'Dubai', 28, 23.4]\n"
     ]
    }
   ],
   "source": [
    "print(person)"
   ]
  },
  {
   "cell_type": "markdown",
   "id": "db7615df",
   "metadata": {},
   "source": [
    "# Slicing\n",
    "each component in the list has an index, starting from 0.\n"
   ]
  },
  {
   "cell_type": "code",
   "execution_count": 26,
   "id": "8a564d0a",
   "metadata": {},
   "outputs": [
    {
     "data": {
      "text/plain": [
       "['Rahima', 'Dubai', 28]"
      ]
     },
     "execution_count": 26,
     "metadata": {},
     "output_type": "execute_result"
    }
   ],
   "source": [
    "person[0:3]"
   ]
  },
  {
   "cell_type": "code",
   "execution_count": 27,
   "id": "98045712",
   "metadata": {},
   "outputs": [
    {
     "data": {
      "text/plain": [
       "['Rahima', 'Dubai', 28]"
      ]
     },
     "execution_count": 27,
     "metadata": {},
     "output_type": "execute_result"
    }
   ],
   "source": [
    "person[:3] #leaving blank, means from begining"
   ]
  },
  {
   "cell_type": "code",
   "execution_count": 28,
   "id": "eda78681",
   "metadata": {},
   "outputs": [
    {
     "data": {
      "text/plain": [
       "['Dubai', 28, 23.4]"
      ]
     },
     "execution_count": 28,
     "metadata": {},
     "output_type": "execute_result"
    }
   ],
   "source": [
    "person[1:]"
   ]
  },
  {
   "cell_type": "code",
   "execution_count": 29,
   "id": "24a17b57",
   "metadata": {},
   "outputs": [
    {
     "data": {
      "text/plain": [
       "['Rahima', 'Florida', 28, 23.4]"
      ]
     },
     "execution_count": 29,
     "metadata": {},
     "output_type": "execute_result"
    }
   ],
   "source": [
    "person[1] = 'Florida'\n",
    "person"
   ]
  },
  {
   "cell_type": "code",
   "execution_count": 35,
   "id": "f41df3a4",
   "metadata": {},
   "outputs": [
    {
     "name": "stdout",
     "output_type": "stream",
     "text": [
      "{'math': 40, 'english': 50, 'computer': 80}\n",
      "{'name': 'Mark', 'subject': ['math', 'computer', 'english', 'chemistry'], 'slots': ('AM', 'PM')}\n"
     ]
    }
   ],
   "source": [
    "marks = {'math' : 40, 'english' : 50, 'computer' : 80}\n",
    "teacher =   {\n",
    "                'name': 'Mark',\n",
    "                'subject' : ['math', 'computer',\n",
    "                'english', 'chemistry'],\n",
    "                'slots': ('AM', 'PM')\n",
    "            }\n",
    "print(marks)\n",
    "print(teacher)"
   ]
  },
  {
   "cell_type": "code",
   "execution_count": 42,
   "id": "aa7cc7c2",
   "metadata": {},
   "outputs": [
    {
     "name": "stdout",
     "output_type": "stream",
     "text": [
      "<class 'int'>\n"
     ]
    }
   ],
   "source": [
    "print(type(marks['math']))\n",
    "\n"
   ]
  },
  {
   "cell_type": "code",
   "execution_count": 58,
   "id": "1c3ed502",
   "metadata": {},
   "outputs": [
    {
     "data": {
      "text/plain": [
       "{'math': 40, 'english': 50, 'computer': 80}"
      ]
     },
     "execution_count": 58,
     "metadata": {},
     "output_type": "execute_result"
    }
   ],
   "source": [
    "copymarks = marks\n",
    "copymarks"
   ]
  },
  {
   "cell_type": "code",
   "execution_count": 51,
   "id": "4d0a7594",
   "metadata": {},
   "outputs": [
    {
     "data": {
      "text/plain": [
       "dict_values([40, 50, 80])"
      ]
     },
     "execution_count": 51,
     "metadata": {},
     "output_type": "execute_result"
    }
   ],
   "source": [
    "value = copymarks.values()\n",
    "value"
   ]
  },
  {
   "cell_type": "code",
   "execution_count": 49,
   "id": "d17f6f0c",
   "metadata": {},
   "outputs": [
    {
     "data": {
      "text/plain": [
       "['math', 'english', 'computer']"
      ]
     },
     "execution_count": 49,
     "metadata": {},
     "output_type": "execute_result"
    }
   ],
   "source": [
    "list(copymarks)"
   ]
  },
  {
   "cell_type": "code",
   "execution_count": 64,
   "id": "8bc62d36",
   "metadata": {},
   "outputs": [
    {
     "data": {
      "text/plain": [
       "[40, 50, 80]"
      ]
     },
     "execution_count": 64,
     "metadata": {},
     "output_type": "execute_result"
    }
   ],
   "source": [
    "copymarks_list = list(copymarks.values())\n",
    "copymarks_list\n"
   ]
  },
  {
   "cell_type": "code",
   "execution_count": 67,
   "id": "69956b10",
   "metadata": {},
   "outputs": [
    {
     "data": {
      "text/plain": [
       "list"
      ]
     },
     "execution_count": 67,
     "metadata": {},
     "output_type": "execute_result"
    }
   ],
   "source": [
    "type(copymarks_list)"
   ]
  },
  {
   "cell_type": "markdown",
   "id": "c8d9ee6d",
   "metadata": {},
   "source": [
    "# inputs"
   ]
  },
  {
   "cell_type": "code",
   "execution_count": 69,
   "id": "523eb954",
   "metadata": {},
   "outputs": [
    {
     "name": "stdout",
     "output_type": "stream",
     "text": [
      "10\n",
      "15\n"
     ]
    }
   ],
   "source": [
    "num1 = input('Enter an integer:')\n",
    "num2 = input('Second int')\n",
    "print(num1)\n",
    "print(num2)"
   ]
  },
  {
   "cell_type": "code",
   "execution_count": 73,
   "id": "0c3a384c",
   "metadata": {},
   "outputs": [
    {
     "name": "stdout",
     "output_type": "stream",
     "text": [
      "1015\n"
     ]
    }
   ],
   "source": [
    "print(num1+num2)"
   ]
  },
  {
   "cell_type": "code",
   "execution_count": 74,
   "id": "e5f0e4cf",
   "metadata": {},
   "outputs": [
    {
     "name": "stdout",
     "output_type": "stream",
     "text": [
      "25\n"
     ]
    }
   ],
   "source": [
    "num1 = int(input('Enter an integer:'))\n",
    "num2 = int(input('Second int'))\n",
    "print(num1+num2)"
   ]
  },
  {
   "cell_type": "code",
   "execution_count": 75,
   "id": "f6983faf",
   "metadata": {},
   "outputs": [
    {
     "name": "stdout",
     "output_type": "stream",
     "text": [
      "Success\n"
     ]
    }
   ],
   "source": [
    "if 1 == 1:\n",
    "    print('Success')"
   ]
  },
  {
   "cell_type": "code",
   "execution_count": 80,
   "id": "a1134ffc",
   "metadata": {},
   "outputs": [
    {
     "name": "stdout",
     "output_type": "stream",
     "text": [
      "fail\n"
     ]
    }
   ],
   "source": [
    "age = int(input('Enter your age:'))\n",
    "\n",
    "if age >= 17:\n",
    "    print('success')\n",
    "    print('test')\n",
    "else:\n",
    "    print('fail')"
   ]
  },
  {
   "cell_type": "code",
   "execution_count": 81,
   "id": "e743596d",
   "metadata": {},
   "outputs": [
    {
     "data": {
      "text/plain": [
       "8"
      ]
     },
     "execution_count": 81,
     "metadata": {},
     "output_type": "execute_result"
    }
   ],
   "source": [
    "2**3 #exponent operator"
   ]
  },
  {
   "cell_type": "code",
   "execution_count": 82,
   "id": "832807aa",
   "metadata": {},
   "outputs": [
    {
     "data": {
      "text/plain": [
       "5.0"
      ]
     },
     "execution_count": 82,
     "metadata": {},
     "output_type": "execute_result"
    }
   ],
   "source": [
    "10/2"
   ]
  },
  {
   "cell_type": "code",
   "execution_count": 83,
   "id": "42762e6d",
   "metadata": {},
   "outputs": [
    {
     "data": {
      "text/plain": [
       "5"
      ]
     },
     "execution_count": 83,
     "metadata": {},
     "output_type": "execute_result"
    }
   ],
   "source": [
    "10//2  #rounds to integer"
   ]
  },
  {
   "cell_type": "code",
   "execution_count": 84,
   "id": "9497b3f6",
   "metadata": {},
   "outputs": [
    {
     "data": {
      "text/plain": [
       "3"
      ]
     },
     "execution_count": 84,
     "metadata": {},
     "output_type": "execute_result"
    }
   ],
   "source": [
    "10//3"
   ]
  },
  {
   "cell_type": "code",
   "execution_count": 85,
   "id": "53d530cb",
   "metadata": {},
   "outputs": [
    {
     "data": {
      "text/plain": [
       "1"
      ]
     },
     "execution_count": 85,
     "metadata": {},
     "output_type": "execute_result"
    }
   ],
   "source": [
    "10%3 # modulus (remainder)"
   ]
  },
  {
   "cell_type": "markdown",
   "id": "9dedede8",
   "metadata": {},
   "source": [
    "# Exercise\n",
    "Billing for utilities company.\n",
    "\n",
    "first x units costs y per unit\n",
    "second i units costs j per units\n",
    "third y units costs z per units"
   ]
  },
  {
   "cell_type": "markdown",
   "id": "5511e81e",
   "metadata": {},
   "source": [
    "# Exercise"
   ]
  },
  {
   "cell_type": "code",
   "execution_count": 31,
   "id": "77838bbd",
   "metadata": {},
   "outputs": [
    {
     "name": "stdout",
     "output_type": "stream",
     "text": [
      "Total Discount value is:\n",
      "\n",
      "960.5\n",
      "\n",
      "Total bill for customer 2001 is:\n",
      "\n",
      "18249.5\n"
     ]
    }
   ],
   "source": [
    "price_list = {'100': 5, '200': 7, '>200': 10, 'discount': 0.05}\n",
    "discount_total = None\n",
    "try:\n",
    "    ID_input = int(input('Enter Customer ID'))\n",
    "    units_input = int(input('Enter units for Customer'))\n",
    "except:\n",
    "    units_input = 0\n",
    "    print(\"Invalid input, try again\")\n",
    "\n",
    "\n",
    "\n",
    "if units_input <= 100:\n",
    "    bill_total = units_input * price_list.get('100')\n",
    "elif units_input <= 200:\n",
    "    bill_total = 100 * price_list.get('100')\n",
    "    bill_total += (units_input - 100) * price_list.get('200')\n",
    "elif units_input <= 2000:\n",
    "    bill_total = 100 * price_list.get('100')\n",
    "    bill_total += 100 * price_list.get('200')\n",
    "    bill_total += (units_input - 200) * price_list.get('>200')\n",
    "elif units_input > 2000:\n",
    "    bill_total = 100 * price_list.get('100')\n",
    "    bill_total += 100 * price_list.get('200')\n",
    "    bill_total += (units_input - 200) * price_list.get('>200')\n",
    "    discount_total = bill_total * price_list.get('discount')\n",
    "    bill_total -= discount_total\n",
    "\n",
    "if discount_total is not None and units_input != 0:\n",
    "    print(f'Total Discount value is:\\n\\n{discount_total}\\n')\n",
    "    \n",
    "if units_input != 0:\n",
    "    print(f'Total bill for customer {ID_input} is:\\n\\n{bill_total}')\n",
    "\n"
   ]
  },
  {
   "cell_type": "code",
   "execution_count": 69,
   "id": "199dda14",
   "metadata": {},
   "outputs": [
    {
     "name": "stdout",
     "output_type": "stream",
     "text": [
      "960.5\n",
      "18249.5\n"
     ]
    }
   ],
   "source": [
    "units = int(input('Enter units:'))\n",
    "units1 = 100*5\n",
    "units2 = units1+100*7\n",
    "discount = 0\n",
    "\n",
    "if units > 2000:\n",
    "    total_bill = units2 + (units-200)*10\n",
    "    discount = total_bill * 0.05\n",
    "    total_bill -= discount\n",
    "elif units > 200:\n",
    "    total_bill = units2 + (units-200)*10\n",
    "elif units > 100:\n",
    "    total_bill = units1 + (units-100)*7\n",
    "elif units <= 100:\n",
    "    total_bill = units * 5\n",
    "else:\n",
    "    print('Invalid Input')\n",
    "\n",
    "if discount > 0:\n",
    "    print(discount)\n",
    "\n",
    "print(total_bill)\n"
   ]
  },
  {
   "cell_type": "markdown",
   "id": "38f4e4be",
   "metadata": {},
   "source": [
    "# LOOPS"
   ]
  },
  {
   "cell_type": "code",
   "execution_count": 42,
   "id": "c4ea7b8e",
   "metadata": {},
   "outputs": [
    {
     "name": "stdout",
     "output_type": "stream",
     "text": [
      "0\n",
      "1\n",
      "2\n",
      "3\n",
      "4\n",
      "5\n",
      "6\n",
      "7\n",
      "8\n",
      "9\n",
      "10\n",
      "11\n",
      "12\n",
      "13\n",
      "14\n",
      "15\n",
      "16\n",
      "17\n",
      "18\n",
      "19\n"
     ]
    }
   ],
   "source": [
    "for x in range(20):\n",
    "    print(x)"
   ]
  },
  {
   "cell_type": "code",
   "execution_count": 49,
   "id": "43f5f59d",
   "metadata": {},
   "outputs": [
    {
     "name": "stdout",
     "output_type": "stream",
     "text": [
      "4\n",
      "6\n",
      "8\n",
      "10\n",
      "12\n",
      "14\n",
      "16\n",
      "18\n"
     ]
    }
   ],
   "source": [
    "for x in range(4,20, 2):\n",
    "    print(x)"
   ]
  },
  {
   "cell_type": "code",
   "execution_count": 52,
   "id": "e65e5357",
   "metadata": {},
   "outputs": [
    {
     "name": "stdout",
     "output_type": "stream",
     "text": [
      "18\n",
      "16\n",
      "14\n",
      "12\n",
      "10\n"
     ]
    }
   ],
   "source": [
    "for x in reversed(range(10,20,2)):\n",
    "    print(x)"
   ]
  },
  {
   "cell_type": "code",
   "execution_count": 45,
   "id": "b33bee08",
   "metadata": {},
   "outputs": [
    {
     "data": {
      "text/plain": [
       "[0, 1, 2, 3, 4, 5, 6, 7, 8, 9]"
      ]
     },
     "execution_count": 45,
     "metadata": {},
     "output_type": "execute_result"
    }
   ],
   "source": [
    "list1 = []\n",
    "for x in range(10):\n",
    "    list1.append(x)\n",
    "\n",
    "list1"
   ]
  },
  {
   "cell_type": "code",
   "execution_count": 46,
   "id": "6fdadd7d",
   "metadata": {},
   "outputs": [
    {
     "name": "stdout",
     "output_type": "stream",
     "text": [
      "0\n",
      "1\n",
      "2\n",
      "3\n",
      "4\n",
      "5\n",
      "6\n",
      "7\n",
      "8\n",
      "9\n"
     ]
    }
   ],
   "source": [
    "for x in list1:\n",
    "    print(x)"
   ]
  },
  {
   "cell_type": "code",
   "execution_count": 47,
   "id": "a710f520",
   "metadata": {},
   "outputs": [
    {
     "name": "stdout",
     "output_type": "stream",
     "text": [
      "F\n",
      "u\n",
      "g\n",
      "r\n",
      "o\n"
     ]
    }
   ],
   "source": [
    "for x in 'Fugro':\n",
    "    print(x)"
   ]
  },
  {
   "cell_type": "code",
   "execution_count": 48,
   "id": "f8af0878",
   "metadata": {},
   "outputs": [
    {
     "name": "stdout",
     "output_type": "stream",
     "text": [
      "10\n",
      "9\n",
      "8\n",
      "7\n",
      "6\n",
      "5\n",
      "4\n",
      "3\n",
      "2\n",
      "1\n",
      "0\n"
     ]
    }
   ],
   "source": [
    "x = 10\n",
    "while x >= 0:\n",
    "    print(x)\n",
    "    x -= 1"
   ]
  },
  {
   "cell_type": "code",
   "execution_count": null,
   "id": "5d88f51f",
   "metadata": {},
   "outputs": [],
   "source": []
  },
  {
   "cell_type": "code",
   "execution_count": 56,
   "id": "6329a8e5",
   "metadata": {},
   "outputs": [
    {
     "name": "stdout",
     "output_type": "stream",
     "text": [
      "9.0 X 0 = 0.0\n",
      "9.0 X 1 = 9.0\n",
      "9.0 X 2 = 18.0\n",
      "9.0 X 3 = 27.0\n",
      "9.0 X 4 = 36.0\n",
      "9.0 X 5 = 45.0\n",
      "9.0 X 6 = 54.0\n",
      "9.0 X 7 = 63.0\n",
      "9.0 X 8 = 72.0\n",
      "9.0 X 9 = 81.0\n",
      "9.0 X 10 = 90.0\n",
      "9.0 X 11 = 99.0\n",
      "9.0 X 12 = 108.0\n",
      "9.0 X 13 = 117.0\n",
      "9.0 X 14 = 126.0\n",
      "9.0 X 15 = 135.0\n",
      "9.0 X 16 = 144.0\n",
      "9.0 X 17 = 153.0\n",
      "9.0 X 18 = 162.0\n",
      "9.0 X 19 = 171.0\n",
      "9.0 X 20 = 180.0\n",
      "9.0 X 21 = 189.0\n",
      "9.0 X 22 = 198.0\n",
      "9.0 X 23 = 207.0\n",
      "9.0 X 24 = 216.0\n",
      "9.0 X 25 = 225.0\n",
      "9.0 X 26 = 234.0\n",
      "9.0 X 27 = 243.0\n",
      "9.0 X 28 = 252.0\n",
      "9.0 X 29 = 261.0\n",
      "9.0 X 30 = 270.0\n",
      "9.0 X 31 = 279.0\n",
      "9.0 X 32 = 288.0\n",
      "9.0 X 33 = 297.0\n",
      "9.0 X 34 = 306.0\n",
      "9.0 X 35 = 315.0\n",
      "9.0 X 36 = 324.0\n",
      "9.0 X 37 = 333.0\n",
      "9.0 X 38 = 342.0\n",
      "9.0 X 39 = 351.0\n",
      "9.0 X 40 = 360.0\n",
      "9.0 X 41 = 369.0\n",
      "9.0 X 42 = 378.0\n",
      "9.0 X 43 = 387.0\n",
      "9.0 X 44 = 396.0\n",
      "9.0 X 45 = 405.0\n",
      "9.0 X 46 = 414.0\n",
      "9.0 X 47 = 423.0\n",
      "9.0 X 48 = 432.0\n",
      "9.0 X 49 = 441.0\n",
      "9.0 X 50 = 450.0\n",
      "9.0 X 51 = 459.0\n",
      "9.0 X 52 = 468.0\n",
      "9.0 X 53 = 477.0\n",
      "9.0 X 54 = 486.0\n",
      "9.0 X 55 = 495.0\n",
      "9.0 X 56 = 504.0\n",
      "9.0 X 57 = 513.0\n",
      "9.0 X 58 = 522.0\n",
      "9.0 X 59 = 531.0\n",
      "9.0 X 60 = 540.0\n",
      "9.0 X 61 = 549.0\n",
      "9.0 X 62 = 558.0\n",
      "9.0 X 63 = 567.0\n",
      "9.0 X 64 = 576.0\n",
      "9.0 X 65 = 585.0\n",
      "9.0 X 66 = 594.0\n",
      "9.0 X 67 = 603.0\n",
      "9.0 X 68 = 612.0\n",
      "9.0 X 69 = 621.0\n",
      "9.0 X 70 = 630.0\n",
      "9.0 X 71 = 639.0\n",
      "9.0 X 72 = 648.0\n",
      "9.0 X 73 = 657.0\n",
      "9.0 X 74 = 666.0\n",
      "9.0 X 75 = 675.0\n",
      "9.0 X 76 = 684.0\n",
      "9.0 X 77 = 693.0\n",
      "9.0 X 78 = 702.0\n",
      "9.0 X 79 = 711.0\n",
      "9.0 X 80 = 720.0\n",
      "9.0 X 81 = 729.0\n",
      "9.0 X 82 = 738.0\n",
      "9.0 X 83 = 747.0\n",
      "9.0 X 84 = 756.0\n",
      "9.0 X 85 = 765.0\n",
      "9.0 X 86 = 774.0\n",
      "9.0 X 87 = 783.0\n",
      "9.0 X 88 = 792.0\n",
      "9.0 X 89 = 801.0\n",
      "9.0 X 90 = 810.0\n",
      "9.0 X 91 = 819.0\n",
      "9.0 X 92 = 828.0\n",
      "9.0 X 93 = 837.0\n",
      "9.0 X 94 = 846.0\n",
      "9.0 X 95 = 855.0\n",
      "9.0 X 96 = 864.0\n",
      "9.0 X 97 = 873.0\n",
      "9.0 X 98 = 882.0\n",
      "9.0 X 99 = 891.0\n"
     ]
    }
   ],
   "source": [
    "table = float(input('Enter a number for table:'))\n",
    "start = int(input('Enter a starting point for the table:'))\n",
    "end = int(input('Enter an ending point for the table:'))\n",
    "\n",
    "for x in range(start,end):\n",
    "    print(f'{table} X {x} = {table*x}')"
   ]
  },
  {
   "cell_type": "code",
   "execution_count": 99,
   "id": "127baac8",
   "metadata": {},
   "outputs": [
    {
     "name": "stdout",
     "output_type": "stream",
     "text": [
      "Invalid choice, Bye!\n"
     ]
    }
   ],
   "source": [
    "# Break keyword\n",
    "\n",
    "#Sign up, take user and password, then allow user to sign in (max 3 attempts)\n",
    "if users_dict is None:\n",
    "    users_dict = {}\n",
    "\n",
    "def setUser(user: str,password: str):\n",
    "    users_dict[user] = password\n",
    "    return users_dict\n",
    "\n",
    "def setLogIn(user: str, password:str):\n",
    "    user_pass = users_dict.get(user)\n",
    "    if  user_pass == None:\n",
    "        return False\n",
    "    elif user_pass == password:\n",
    "        return True\n",
    "    else:\n",
    "        return False\n",
    "\n",
    "def login():\n",
    "    for x in range(3):\n",
    "        user = input('Username:')\n",
    "        password = input('Password:')\n",
    "        logged_in = setLogIn(user,password)\n",
    "        if logged_in == True:\n",
    "            break\n",
    "        else:\n",
    "            print(f'Attempt {x+1} failed, try again')\n",
    "            continue\n",
    "    if logged_in == True:\n",
    "        print(f'Welcome {user}!')\n",
    "    else:\n",
    "        print(f'Login attempts exceeded, try again next time.')\n",
    "\n",
    "user_choice = input('Press 1 to login, or 2 to create an account, 3 to see user list')\n",
    "\n",
    "if user_choice == '1':\n",
    "    login()\n",
    "elif user_choice == '2':\n",
    "    print('Creating New User\\n')\n",
    "    setUser(input('Enter New User:'),input('Enter Password'))\n",
    "elif user_choice == '3':\n",
    "    for user in users_dict:\n",
    "        print(user)\n",
    "else:\n",
    "    print('Invalid choice, Bye!')\n",
    "\n",
    "\n",
    "\n",
    "\n",
    "\n"
   ]
  },
  {
   "cell_type": "code",
   "execution_count": 111,
   "id": "cc7d0dab",
   "metadata": {},
   "outputs": [
    {
     "name": "stdout",
     "output_type": "stream",
     "text": [
      "Login attempt 1\n",
      "User qwe created.\n",
      "Login attempt 2\n",
      "User qwe logged in Successfully\n"
     ]
    },
    {
     "data": {
      "text/plain": [
       "True"
      ]
     },
     "execution_count": 111,
     "metadata": {},
     "output_type": "execute_result"
    }
   ],
   "source": [
    "# Break keyword\n",
    "\n",
    "#Sign up, take user and password, then allow user to sign in (max 3 attempts)\n",
    "\n",
    "class AccessControl:\n",
    "    def __init__(self,max_logins):\n",
    "        self.users_dict = {}\n",
    "        self.logged_in = False\n",
    "        self.current_user = str()\n",
    "        self.max_login_attempts = max_logins\n",
    "        self.events = []\n",
    "\n",
    "    def loginStatus(self):\n",
    "        return self.logged_in\n",
    "    \n",
    "    def setUser(self,user:str,password:str):\n",
    "        self.users_dict[user] = password\n",
    "        self.events.append(f\"User {user} created.\")\n",
    "        print(self.events[-1])\n",
    "    \n",
    "    \n",
    "    def userExists(self,user):\n",
    "        return user in self.users_dict\n",
    "    \n",
    "    def logIn(self):\n",
    "        for attempts in range(0,self.max_login_attempts):\n",
    "            print(f'Login attempt {attempts+1}')\n",
    "            user = input('Username:')\n",
    "            password = input('Password:')\n",
    "            if self.userExists(user):\n",
    "                if self.users_dict[user] == password:\n",
    "                    self.logged_in = True\n",
    "                    self.current_user = user\n",
    "                    self.events.append(f\"User {user} logged in Successfully\")\n",
    "                    print(self.events[-1])\n",
    "                    break\n",
    "                else:\n",
    "                    self.events.append(f'Login attempt {attempts+1}/{self.max_login_attempts} failed.')\n",
    "                    print(self.events[-1])\n",
    "                    continue\n",
    "            else:\n",
    "                create_user = input(f\"User {user}, does not exist, create? Y/N:\")\n",
    "                if create_user.lower() == 'y':\n",
    "                    if password == input('Enter Password a second time:'):\n",
    "                        self.setUser(user,password)\n",
    "                        attempts = 0\n",
    "                        continue\n",
    "                else:\n",
    "                    break\n",
    "        if self.logged_in == False:\n",
    "            print('\\n\\n Goodbye.')\n",
    "        return self.logged_in\n",
    "    \n",
    "myAppLogin = AccessControl(5)\n",
    "\n",
    "myAppLogin.logIn()\n",
    "    \n",
    "## try getter setter, envcapsulation\n",
    "\n",
    "\n",
    "\n",
    "\n",
    "\n",
    "\n",
    "        \n",
    "\n",
    "    \n",
    "\n",
    "\n",
    "\n",
    "\n",
    "\n",
    "\n"
   ]
  },
  {
   "cell_type": "code",
   "execution_count": 92,
   "id": "3c871126",
   "metadata": {},
   "outputs": [
    {
     "name": "stdout",
     "output_type": "stream",
     "text": [
      "{'qwe': 'qwe'}\n"
     ]
    },
    {
     "data": {
      "text/plain": [
       "'qwe'"
      ]
     },
     "execution_count": 92,
     "metadata": {},
     "output_type": "execute_result"
    }
   ],
   "source": [
    "print(users_dict)\n",
    "setLogIn('qwe','qwe')\n",
    "users_dict.get('qwe')"
   ]
  },
  {
   "cell_type": "code",
   "execution_count": 77,
   "id": "40e26aa0",
   "metadata": {},
   "outputs": [
    {
     "data": {
      "text/plain": [
       "{}"
      ]
     },
     "execution_count": 77,
     "metadata": {},
     "output_type": "execute_result"
    }
   ],
   "source": [
    "users_dict"
   ]
  }
 ],
 "metadata": {
  "kernelspec": {
   "display_name": ".venv",
   "language": "python",
   "name": "python3"
  },
  "language_info": {
   "codemirror_mode": {
    "name": "ipython",
    "version": 3
   },
   "file_extension": ".py",
   "mimetype": "text/x-python",
   "name": "python",
   "nbconvert_exporter": "python",
   "pygments_lexer": "ipython3",
   "version": "3.13.3"
  }
 },
 "nbformat": 4,
 "nbformat_minor": 5
}
