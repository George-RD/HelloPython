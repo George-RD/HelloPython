{
 "cells": [
  {
   "cell_type": "markdown",
   "id": "3bd83d1f",
   "metadata": {},
   "source": [
    "# Exception Handling\n",
    "\n",
    "Writing code to give descriptive errors"
   ]
  },
  {
   "cell_type": "code",
   "execution_count": null,
   "id": "d821aeb8",
   "metadata": {},
   "outputs": [],
   "source": []
  },
  {
   "cell_type": "code",
   "execution_count": 3,
   "id": "898b3ef5",
   "metadata": {},
   "outputs": [
    {
     "name": "stdout",
     "output_type": "stream",
     "text": [
      "Exception Occured\n"
     ]
    }
   ],
   "source": [
    "try:\n",
    "    print(x)\n",
    "except:\n",
    "    print(\"Exception Occured\")\n"
   ]
  },
  {
   "cell_type": "code",
   "execution_count": 10,
   "id": "e7ca2531",
   "metadata": {},
   "outputs": [
    {
     "name": "stdout",
     "output_type": "stream",
     "text": [
      "You can't divide by zero!\n"
     ]
    }
   ],
   "source": [
    "try:\n",
    "    10/0\n",
    "except ZeroDivisionError:\n",
    "    print(\"You can't divide by zero!\")"
   ]
  },
  {
   "cell_type": "code",
   "execution_count": 14,
   "id": "2ac3e448",
   "metadata": {},
   "outputs": [
    {
     "name": "stdout",
     "output_type": "stream",
     "text": [
      "Invalid integer.\n"
     ]
    }
   ],
   "source": [
    "try:\n",
    "    num = int('abc')\n",
    "except ValueError:\n",
    "    print(\"Invalid integer.\")\n",
    "except TypeError:\n",
    "    print(\"Type mismatch.\")"
   ]
  },
  {
   "cell_type": "code",
   "execution_count": 16,
   "id": "b599f0fe",
   "metadata": {},
   "outputs": [
    {
     "name": "stdout",
     "output_type": "stream",
     "text": [
      "Type mismatch.\n"
     ]
    }
   ],
   "source": [
    "try:\n",
    "    num = 3 + 'q'\n",
    "except ValueError:\n",
    "    print(\"Invalid integer.\")\n",
    "except TypeError:\n",
    "    print(\"Type mismatch.\")\n",
    "    "
   ]
  },
  {
   "cell_type": "code",
   "execution_count": 18,
   "id": "e1fa3625",
   "metadata": {},
   "outputs": [
    {
     "ename": "Exception",
     "evalue": "Sorry, no numbers below zero",
     "output_type": "error",
     "traceback": [
      "\u001b[31m---------------------------------------------------------------------------\u001b[39m",
      "\u001b[31mException\u001b[39m                                 Traceback (most recent call last)",
      "\u001b[36mCell\u001b[39m\u001b[36m \u001b[39m\u001b[32mIn[18]\u001b[39m\u001b[32m, line 3\u001b[39m\n\u001b[32m      1\u001b[39m x= -\u001b[32m1\u001b[39m\n\u001b[32m      2\u001b[39m \u001b[38;5;28;01mif\u001b[39;00m x<\u001b[32m0\u001b[39m:\n\u001b[32m----> \u001b[39m\u001b[32m3\u001b[39m     \u001b[38;5;28;01mraise\u001b[39;00m \u001b[38;5;167;01mException\u001b[39;00m(\u001b[33m'\u001b[39m\u001b[33mSorry, no numbers below zero\u001b[39m\u001b[33m'\u001b[39m)\n",
      "\u001b[31mException\u001b[39m: Sorry, no numbers below zero"
     ]
    }
   ],
   "source": [
    "x= -1\n",
    "if x<0:\n",
    "    raise Exception('Sorry, no numbers below zero')\n"
   ]
  },
  {
   "cell_type": "code",
   "execution_count": 19,
   "id": "a7de34f2",
   "metadata": {},
   "outputs": [
    {
     "ename": "ValueError",
     "evalue": "Sorry, no numbers below zero",
     "output_type": "error",
     "traceback": [
      "\u001b[31m---------------------------------------------------------------------------\u001b[39m",
      "\u001b[31mValueError\u001b[39m                                Traceback (most recent call last)",
      "\u001b[36mCell\u001b[39m\u001b[36m \u001b[39m\u001b[32mIn[19]\u001b[39m\u001b[32m, line 3\u001b[39m\n\u001b[32m      1\u001b[39m x= -\u001b[32m1\u001b[39m\n\u001b[32m      2\u001b[39m \u001b[38;5;28;01mif\u001b[39;00m x<\u001b[32m0\u001b[39m:\n\u001b[32m----> \u001b[39m\u001b[32m3\u001b[39m     \u001b[38;5;28;01mraise\u001b[39;00m \u001b[38;5;167;01mValueError\u001b[39;00m(\u001b[33m'\u001b[39m\u001b[33mSorry, no numbers below zero\u001b[39m\u001b[33m'\u001b[39m)\n",
      "\u001b[31mValueError\u001b[39m: Sorry, no numbers below zero"
     ]
    }
   ],
   "source": [
    "x= -1\n",
    "if x<0:\n",
    "    raise ValueError('Sorry, no numbers below zero')"
   ]
  }
 ],
 "metadata": {
  "kernelspec": {
   "display_name": ".venv",
   "language": "python",
   "name": "python3"
  },
  "language_info": {
   "codemirror_mode": {
    "name": "ipython",
    "version": 3
   },
   "file_extension": ".py",
   "mimetype": "text/x-python",
   "name": "python",
   "nbconvert_exporter": "python",
   "pygments_lexer": "ipython3",
   "version": "3.13.3"
  }
 },
 "nbformat": 4,
 "nbformat_minor": 5
}
