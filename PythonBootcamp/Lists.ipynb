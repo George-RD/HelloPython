{
 "cells": [
  {
   "cell_type": "markdown",
   "id": "ea59b0f3",
   "metadata": {},
   "source": [
    "# Lists\n",
    "Lists created with square [ ]\n",
    "\n",
    "so thislist = [\"apple\",\"bannana\",\"grape\"]\n",
    "\n",
    "# Tuples\n",
    "\n",
    "Tuple created with round brackets ()\n",
    "\n",
    "thistuple = (\"apple\",\"bannana\",\"grape\")\n",
    "\n",
    "Tuples immutable (cannot change). Can replace, over write in full, but cannot append or change elements in the array.\n"
   ]
  },
  {
   "cell_type": "code",
   "execution_count": 17,
   "id": "e07211b8",
   "metadata": {},
   "outputs": [
    {
     "name": "stdout",
     "output_type": "stream",
     "text": [
      "['table', 'apple', 'bannana', 'grape', 'table', 'apple', 'bannana', 'grape', 'camel']\n",
      "['apple', 'bannana', 'grape', 'mango']\n",
      "('table', 'apple', 'bannana', 'grape', 'table', 'apple', 'bannana', 'grape')\n",
      "['egg', 'bannana', 'grape', 'mango']\n",
      "('table', 'apple', 'bannana', 'grape', 'table', 'apple', 'bannana', 'grape')\n"
     ]
    }
   ],
   "source": [
    "thislist = [\"apple\",\"bannana\",\"grape\"]\n",
    "thistuple = (\"apple\",\"bannana\",\"grape\")\n",
    "\n",
    "thislist.append(\"mango\")\n",
    "thistuple = tuple(thislist)\n",
    "thistuple = (\"table\",\"apple\",\"bannana\",\"grape\")\n",
    "thistuple = thistuple + thistuple\n",
    "list_from_tuple = list(thistuple)\n",
    "list_from_tuple.append(\"camel\")\n",
    "print(list_from_tuple)\n",
    "print(thislist)\n",
    "print(thistuple)\n",
    "\n",
    "thislist[0] = \"egg\"\n",
    "\n",
    "\n",
    "print(thislist)\n",
    "print(thistuple)"
   ]
  },
  {
   "cell_type": "markdown",
   "id": "23839c4c",
   "metadata": {},
   "source": [
    "# Sets\n",
    "unindexed, no duplicates. Set is mutable, but the elements are not.\n",
    "\n",
    "Assigned with curly brackets { }"
   ]
  },
  {
   "cell_type": "code",
   "execution_count": 64,
   "id": "13a902c8",
   "metadata": {},
   "outputs": [
    {
     "name": "stdout",
     "output_type": "stream",
     "text": [
      "{'c', 'a', 'b'}\n",
      "{'c', 'a', 'b', 'x'}\n",
      "{'a', 'b', 'x'}\n",
      "#Set union\n",
      "\n",
      "\n",
      "{'s', 'r', 'q'}\n",
      "{'x'}\n",
      "{'a', 'b', 'x'}\n",
      "{'q', 'b', 's', 'r', 'a'}\n",
      "{'a', 'b'}\n",
      "None\n"
     ]
    }
   ],
   "source": [
    "set1={\"a\",\"b\",\"b\",\"b\",\"c\",\"c\"}\n",
    "print(set1)\n",
    "\n",
    "set1.add(\"x\")\n",
    "\n",
    "print(set1)\n",
    "\n",
    "set1.pop()\n",
    "print(set1)\n",
    "\n",
    "print(\"#Set union\\n\\n\")\n",
    "\n",
    "set2={\"a\",\"b\",\"q\",\"r\",\"s\"}\n",
    "\n",
    "print(set2-set1)\n",
    "print(set1-set2)\n",
    "print(set1)\n",
    "print(set2)\n",
    "\n",
    "set1.intersection_update(set2)\n",
    "print(set1)\n",
    "print(set2.intersection_update(set1))\n",
    "\n"
   ]
  },
  {
   "cell_type": "markdown",
   "id": "b8801041",
   "metadata": {},
   "source": [
    "# Dictionairy\n",
    "Key value pairs. Can be in one line, or can line per pair for readability"
   ]
  },
  {
   "cell_type": "code",
   "execution_count": 99,
   "id": "58b85464",
   "metadata": {},
   "outputs": [
    {
     "name": "stdout",
     "output_type": "stream",
     "text": [
      "{'brand': 'ford', 'model': 'mustang', 'year': 2025, 'colour': ['red', 'blue', 'green']}\n",
      "4\n",
      "2025\n",
      "Colour options: ['red', 'blue', 'green']\n",
      "dict_keys(['brand', 'model', 'year', 'colour'])\n",
      "dict_values(['ford', 'mustang', 2025, ['red', 'blue', 'green']])\n",
      "\n",
      "loop dict1\n",
      "brand\n",
      "model\n",
      "year\n",
      "colour\n",
      "\n",
      "loop dict value\n",
      "ford\n",
      "mustang\n",
      "2025\n",
      "['red', 'blue', 'green']\n",
      "\n",
      " loop dict items\n",
      "('brand', 'ford')\n",
      "('model', 'mustang')\n",
      "('year', 2025)\n",
      "('colour', ['red', 'blue', 'green'])\n",
      "\n",
      " dict copy\n",
      "{'brand': 'ford', 'model': 'mustang', 'year': 2025, 'colour': ['red', 'blue', 'green'], 'engine_size': 2.4}\n",
      "{'brand': 'ford', 'model': 'mustang', 'year': 2025, 'colour': ['red', 'blue', 'green']}\n",
      "\n",
      " Pop Items\n",
      "{'brand': 'ford', 'model': 'mustang', 'year': 2025, 'engine_size': 2.4}\n",
      "\n",
      " clear & delete\n",
      "{}\n",
      "\n",
      " delete dictionairy\n"
     ]
    },
    {
     "ename": "NameError",
     "evalue": "name 'dict1' is not defined",
     "output_type": "error",
     "traceback": [
      "\u001b[31m---------------------------------------------------------------------------\u001b[39m",
      "\u001b[31mNameError\u001b[39m                                 Traceback (most recent call last)",
      "\u001b[36mCell\u001b[39m\u001b[36m \u001b[39m\u001b[32mIn[99]\u001b[39m\u001b[32m, line 45\u001b[39m\n\u001b[32m     43\u001b[39m \u001b[38;5;28mprint\u001b[39m(\u001b[33m\"\u001b[39m\u001b[38;5;130;01m\\n\u001b[39;00m\u001b[33m delete dictionairy\u001b[39m\u001b[33m\"\u001b[39m)\n\u001b[32m     44\u001b[39m \u001b[38;5;28;01mdel\u001b[39;00m dict1\n\u001b[32m---> \u001b[39m\u001b[32m45\u001b[39m \u001b[38;5;28mprint\u001b[39m(\u001b[43mdict1\u001b[49m)\n",
      "\u001b[31mNameError\u001b[39m: name 'dict1' is not defined"
     ]
    }
   ],
   "source": [
    "dict1={\"brand\":\"ford\",\n",
    "       \"model\":\"mustang\",\n",
    "       \"year\":1964,\n",
    "       \"year\":2025,\n",
    "       \"colour\":[\"red\",\"blue\",\"green\"]}\n",
    "\n",
    "print(dict1)\n",
    "print(len(dict1))\n",
    "\n",
    "print(dict1[\"year\"])\n",
    "\n",
    "print(f\"Colour options: {dict1[\"colour\"]}\")\n",
    "\n",
    "print(dict1.keys())\n",
    "print(dict1.values())\n",
    "\n",
    "print(\"\\nloop dict1\")\n",
    "for x in dict1:\n",
    "    print(x)\n",
    "\n",
    "print(\"\\nloop dict value\")\n",
    "for x in dict1.values():\n",
    "    print(x)\n",
    "\n",
    "print(\"\\n loop dict items\")\n",
    "for x in dict1.items():\n",
    "    print(x)\n",
    "\n",
    "print(\"\\n dict copy\")\n",
    "dict3=dict1.copy()\n",
    "dict1[\"engine_size\"]=2.4\n",
    "print(dict1)\n",
    "print(dict3)\n",
    "\n",
    "print(\"\\n Pop Items\")\n",
    "dict1.pop(\"colour\")\n",
    "print(dict1)\n",
    "\n",
    "print(\"\\n clear & delete\")\n",
    "dict1.clear()\n",
    "print(dict1)\n",
    "\n",
    "print(\"\\n delete dictionairy\")\n",
    "del dict1\n",
    "print(dict1)"
   ]
  },
  {
   "cell_type": "code",
   "execution_count": null,
   "id": "0f17ada0",
   "metadata": {},
   "outputs": [],
   "source": []
  }
 ],
 "metadata": {
  "kernelspec": {
   "display_name": ".venv",
   "language": "python",
   "name": "python3"
  },
  "language_info": {
   "codemirror_mode": {
    "name": "ipython",
    "version": 3
   },
   "file_extension": ".py",
   "mimetype": "text/x-python",
   "name": "python",
   "nbconvert_exporter": "python",
   "pygments_lexer": "ipython3",
   "version": "3.13.3"
  }
 },
 "nbformat": 4,
 "nbformat_minor": 5
}
