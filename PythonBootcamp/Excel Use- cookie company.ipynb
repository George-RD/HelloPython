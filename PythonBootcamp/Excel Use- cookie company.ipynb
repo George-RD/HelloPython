{
 "cells": [
  {
   "cell_type": "code",
   "execution_count": 4,
   "id": "93b38a34",
   "metadata": {},
   "outputs": [
    {
     "data": {
      "text/html": [
       "<div>\n",
       "<style scoped>\n",
       "    .dataframe tbody tr th:only-of-type {\n",
       "        vertical-align: middle;\n",
       "    }\n",
       "\n",
       "    .dataframe tbody tr th {\n",
       "        vertical-align: top;\n",
       "    }\n",
       "\n",
       "    .dataframe thead th {\n",
       "        text-align: right;\n",
       "    }\n",
       "</style>\n",
       "<table border=\"1\" class=\"dataframe\">\n",
       "  <thead>\n",
       "    <tr style=\"text-align: right;\">\n",
       "      <th></th>\n",
       "      <th>Country</th>\n",
       "      <th>Product</th>\n",
       "      <th>Units Sold</th>\n",
       "      <th>Revenue</th>\n",
       "      <th>Cost</th>\n",
       "      <th>Date</th>\n",
       "      <th>profit</th>\n",
       "    </tr>\n",
       "  </thead>\n",
       "  <tbody>\n",
       "    <tr>\n",
       "      <th>0</th>\n",
       "      <td>India</td>\n",
       "      <td>Chocolate Chip</td>\n",
       "      <td>1725</td>\n",
       "      <td>8625</td>\n",
       "      <td>3450.0</td>\n",
       "      <td>2019-11-01</td>\n",
       "      <td>5175.0</td>\n",
       "    </tr>\n",
       "    <tr>\n",
       "      <th>1</th>\n",
       "      <td>India</td>\n",
       "      <td>Chocolate Chip</td>\n",
       "      <td>2152</td>\n",
       "      <td>10760</td>\n",
       "      <td>4304.0</td>\n",
       "      <td>2019-12-01</td>\n",
       "      <td>6456.0</td>\n",
       "    </tr>\n",
       "    <tr>\n",
       "      <th>2</th>\n",
       "      <td>India</td>\n",
       "      <td>Chocolate Chip</td>\n",
       "      <td>2349</td>\n",
       "      <td>11745</td>\n",
       "      <td>4698.0</td>\n",
       "      <td>2019-09-01</td>\n",
       "      <td>7047.0</td>\n",
       "    </tr>\n",
       "    <tr>\n",
       "      <th>3</th>\n",
       "      <td>India</td>\n",
       "      <td>Chocolate Chip</td>\n",
       "      <td>1228</td>\n",
       "      <td>6140</td>\n",
       "      <td>2456.0</td>\n",
       "      <td>2019-10-01</td>\n",
       "      <td>3684.0</td>\n",
       "    </tr>\n",
       "    <tr>\n",
       "      <th>4</th>\n",
       "      <td>India</td>\n",
       "      <td>Chocolate Chip</td>\n",
       "      <td>1389</td>\n",
       "      <td>6945</td>\n",
       "      <td>2778.0</td>\n",
       "      <td>2019-10-01</td>\n",
       "      <td>4167.0</td>\n",
       "    </tr>\n",
       "    <tr>\n",
       "      <th>...</th>\n",
       "      <td>...</td>\n",
       "      <td>...</td>\n",
       "      <td>...</td>\n",
       "      <td>...</td>\n",
       "      <td>...</td>\n",
       "      <td>...</td>\n",
       "      <td>...</td>\n",
       "    </tr>\n",
       "    <tr>\n",
       "      <th>695</th>\n",
       "      <td>United States</td>\n",
       "      <td>White Chocolate Macadamia Nut</td>\n",
       "      <td>1596</td>\n",
       "      <td>9576</td>\n",
       "      <td>4389.0</td>\n",
       "      <td>2020-09-01</td>\n",
       "      <td>5187.0</td>\n",
       "    </tr>\n",
       "    <tr>\n",
       "      <th>696</th>\n",
       "      <td>United States</td>\n",
       "      <td>White Chocolate Macadamia Nut</td>\n",
       "      <td>986</td>\n",
       "      <td>5916</td>\n",
       "      <td>2711.5</td>\n",
       "      <td>2020-10-01</td>\n",
       "      <td>3204.5</td>\n",
       "    </tr>\n",
       "    <tr>\n",
       "      <th>697</th>\n",
       "      <td>United States</td>\n",
       "      <td>White Chocolate Macadamia Nut</td>\n",
       "      <td>606</td>\n",
       "      <td>3636</td>\n",
       "      <td>1666.5</td>\n",
       "      <td>2020-04-01</td>\n",
       "      <td>1969.5</td>\n",
       "    </tr>\n",
       "    <tr>\n",
       "      <th>698</th>\n",
       "      <td>United States</td>\n",
       "      <td>White Chocolate Macadamia Nut</td>\n",
       "      <td>2460</td>\n",
       "      <td>14760</td>\n",
       "      <td>6765.0</td>\n",
       "      <td>2020-07-01</td>\n",
       "      <td>7995.0</td>\n",
       "    </tr>\n",
       "    <tr>\n",
       "      <th>699</th>\n",
       "      <td>United States</td>\n",
       "      <td>White Chocolate Macadamia Nut</td>\n",
       "      <td>914</td>\n",
       "      <td>5484</td>\n",
       "      <td>2513.5</td>\n",
       "      <td>2020-12-01</td>\n",
       "      <td>2970.5</td>\n",
       "    </tr>\n",
       "  </tbody>\n",
       "</table>\n",
       "<p>700 rows × 7 columns</p>\n",
       "</div>"
      ],
      "text/plain": [
       "           Country                        Product  Units Sold  Revenue  \\\n",
       "0            India                 Chocolate Chip        1725     8625   \n",
       "1            India                 Chocolate Chip        2152    10760   \n",
       "2            India                 Chocolate Chip        2349    11745   \n",
       "3            India                 Chocolate Chip        1228     6140   \n",
       "4            India                 Chocolate Chip        1389     6945   \n",
       "..             ...                            ...         ...      ...   \n",
       "695  United States  White Chocolate Macadamia Nut        1596     9576   \n",
       "696  United States  White Chocolate Macadamia Nut         986     5916   \n",
       "697  United States  White Chocolate Macadamia Nut         606     3636   \n",
       "698  United States  White Chocolate Macadamia Nut        2460    14760   \n",
       "699  United States  White Chocolate Macadamia Nut         914     5484   \n",
       "\n",
       "       Cost       Date  profit  \n",
       "0    3450.0 2019-11-01  5175.0  \n",
       "1    4304.0 2019-12-01  6456.0  \n",
       "2    4698.0 2019-09-01  7047.0  \n",
       "3    2456.0 2019-10-01  3684.0  \n",
       "4    2778.0 2019-10-01  4167.0  \n",
       "..      ...        ...     ...  \n",
       "695  4389.0 2020-09-01  5187.0  \n",
       "696  2711.5 2020-10-01  3204.5  \n",
       "697  1666.5 2020-04-01  1969.5  \n",
       "698  6765.0 2020-07-01  7995.0  \n",
       "699  2513.5 2020-12-01  2970.5  \n",
       "\n",
       "[700 rows x 7 columns]"
      ]
     },
     "execution_count": 4,
     "metadata": {},
     "output_type": "execute_result"
    }
   ],
   "source": [
    "import pandas as pd\n",
    "df=pd.read_excel('./data/cookie company.xlsx',sheet_name='data')\n",
    "df"
   ]
  },
  {
   "cell_type": "code",
   "execution_count": 6,
   "id": "e1626f6c",
   "metadata": {},
   "outputs": [
    {
     "data": {
      "text/plain": [
       "(700, 7)"
      ]
     },
     "execution_count": 6,
     "metadata": {},
     "output_type": "execute_result"
    }
   ],
   "source": [
    "df.shape"
   ]
  },
  {
   "cell_type": "code",
   "execution_count": 10,
   "id": "08e01c06",
   "metadata": {},
   "outputs": [
    {
     "name": "stdout",
     "output_type": "stream",
     "text": [
      "200\n",
      "23988\n",
      "6700.46\n",
      "1608.32\n"
     ]
    }
   ],
   "source": [
    "print(df.Revenue.min())\n",
    "print(df.Revenue.max())\n",
    "print(round(df.Revenue.mean(),2))\n",
    "print(df[\"Units Sold\"].mean())"
   ]
  },
  {
   "cell_type": "code",
   "execution_count": 11,
   "id": "28918bc7",
   "metadata": {},
   "outputs": [
    {
     "data": {
      "text/plain": [
       "Product\n",
       "Chocolate Chip                   202\n",
       "Sugar                            109\n",
       "White Chocolate Macadamia Nut    109\n",
       "Oatmeal Raisin                    94\n",
       "Fortune Cookie                    93\n",
       "Snickerdoodle                     93\n",
       "Name: count, dtype: int64"
      ]
     },
     "execution_count": 11,
     "metadata": {},
     "output_type": "execute_result"
    }
   ],
   "source": [
    "df.Product.value_counts()"
   ]
  }
 ],
 "metadata": {
  "kernelspec": {
   "display_name": ".venv",
   "language": "python",
   "name": "python3"
  },
  "language_info": {
   "codemirror_mode": {
    "name": "ipython",
    "version": 3
   },
   "file_extension": ".py",
   "mimetype": "text/x-python",
   "name": "python",
   "nbconvert_exporter": "python",
   "pygments_lexer": "ipython3",
   "version": "3.13.3"
  }
 },
 "nbformat": 4,
 "nbformat_minor": 5
}
