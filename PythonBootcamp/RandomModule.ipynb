{
 "cells": [
  {
   "cell_type": "markdown",
   "id": "69c1a721",
   "metadata": {},
   "source": [
    "# Rock Paper Scissors Game"
   ]
  },
  {
   "cell_type": "code",
   "execution_count": 8,
   "id": "4e209646",
   "metadata": {},
   "outputs": [
    {
     "name": "stdout",
     "output_type": "stream",
     "text": [
      "Computer chose: rock\n",
      "\n",
      "Player chose:paper\n",
      "Player Wins!\n"
     ]
    }
   ],
   "source": [
    "import random\n",
    "\n",
    "choices = ['rock', 'paper','scissors']\n",
    "computer = random.choice(choices)\n",
    "player = input(\"Enter rock, paper or scissors: \").lower()\n",
    "\n",
    "print(f\"Computer chose: {computer}\\n\\nPlayer chose:{player}\")\n",
    "\n",
    "if player == computer:\n",
    "    print(\"It's a Tie\")\n",
    "elif (player == 'rock' and computer == 'scissors') or (player == 'scissors' and computer == 'paper') or (player == 'paper' and computer == 'rock'):\n",
    "    print(\"Player Wins!\")\n",
    "elif player in choices:\n",
    "    \"\\n\\nComputer Wins!\\n\\n\"\n",
    "else:\n",
    "    print(\"Invalid Input\")\n"
   ]
  },
  {
   "cell_type": "markdown",
   "id": "14904af7",
   "metadata": {},
   "source": [
    "## Best of 3"
   ]
  },
  {
   "cell_type": "code",
   "execution_count": 17,
   "id": "0595328e",
   "metadata": {},
   "outputs": [
    {
     "name": "stdout",
     "output_type": "stream",
     "text": [
      "Computer chose: scissors\n",
      "\n",
      "Player chose:rock\n",
      "Player Wins!\n",
      "Score\n",
      "\n",
      "Player = 1  Computer = 0\n",
      "Computer chose: rock\n",
      "\n",
      "Player chose:paper\n",
      "Player Wins!\n",
      "Score\n",
      "\n",
      "Player = 2  Computer = 0\n",
      "Computer chose: paper\n",
      "\n",
      "Player chose:\n",
      "Invalid Input\n"
     ]
    }
   ],
   "source": [
    "import random\n",
    "\n",
    "choices = ['rock', 'paper','scissors']\n",
    "\n",
    "\n",
    "playgame = input(\"Would you like to play? y or n\")\n",
    "playerscore = 0\n",
    "computerscore = 0\n",
    "if playgame == 'y':\n",
    "    while True:\n",
    "            computer = random.choice(choices)\n",
    "            player = input(\"Enter [r]ock, [p]aper or [s]cissors: \").lower()\n",
    "\n",
    "            print(f\"Computer chose: {computer}\\n\\nPlayer chose:{player}\")\n",
    "\n",
    "            if player == computer:\n",
    "                print(\"It's a Tie\")\n",
    "            elif (player == 'rock' and computer == 'scissors') or (player == 'scissors' and computer == 'paper') or (player == 'paper' and computer == 'rock'):\n",
    "                print(\"Player Wins!\")\n",
    "                playerscore += 1\n",
    "            elif player in choices:\n",
    "                \"\\n\\nComputer Wins!\\n\\n\"\n",
    "                computerscore += 1\n",
    "            else:\n",
    "                print(\"Invalid Input\")\n",
    "                break\n",
    "\n",
    "            print(f\"\\n\\nScore\\n\\nPlayer = {playerscore}  Computer = {computerscore}\")\n",
    "else:\n",
    "    print(\"Bye!\")\n"
   ]
  }
 ],
 "metadata": {
  "kernelspec": {
   "display_name": ".venv",
   "language": "python",
   "name": "python3"
  },
  "language_info": {
   "codemirror_mode": {
    "name": "ipython",
    "version": 3
   },
   "file_extension": ".py",
   "mimetype": "text/x-python",
   "name": "python",
   "nbconvert_exporter": "python",
   "pygments_lexer": "ipython3",
   "version": "3.13.3"
  }
 },
 "nbformat": 4,
 "nbformat_minor": 5
}
