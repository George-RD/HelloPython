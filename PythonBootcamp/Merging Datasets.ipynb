{
 "cells": [
  {
   "cell_type": "code",
   "execution_count": 6,
   "id": "33b9ff61",
   "metadata": {},
   "outputs": [
    {
     "name": "stdout",
     "output_type": "stream",
     "text": [
      "Merged DataFrame:\n",
      "   id     name  age\n",
      "0   2      Bob   24\n",
      "1   3  Charlie   30\n",
      "2   4    David   22\n",
      "Left Merged DataFrame:\n",
      "   id     name   age\n",
      "0   1    Alice   NaN\n",
      "1   2      Bob  24.0\n",
      "2   3  Charlie  30.0\n",
      "3   4    David  22.0\n",
      "Right Merged DataFrame:\n",
      "   id     name  age\n",
      "0   2      Bob   24\n",
      "1   3  Charlie   30\n",
      "2   4    David   22\n",
      "3   5      NaN   28\n",
      "Outer Merged DataFrame:\n",
      "   id     name   age\n",
      "0   1    Alice   NaN\n",
      "1   2      Bob  24.0\n",
      "2   3  Charlie  30.0\n",
      "3   4    David  22.0\n",
      "4   5      NaN  28.0\n"
     ]
    }
   ],
   "source": [
    "#Merging Datasets\n",
    "\n",
    "import pandas as pd\n",
    "\n",
    "# Example DataFrames\n",
    "data1 = {'id' : [1, 2, 3, 4],\n",
    "         'name' : ['Alice', 'Bob', 'Charlie', 'David'],}\n",
    "df1 = pd.DataFrame(data1)\n",
    "data2 = {'id' : [2, 3, 4, 5],\n",
    "         'age' : [24, 30, 22, 28],}\n",
    "df2 = pd.DataFrame(data2)\n",
    "\n",
    "# Merge DataFrames on 'id' column\n",
    "\n",
    "# Common key for merge is 'id'\n",
    "# Inner join: only rows with matching 'id' in both DataFrames\n",
    "merged_df = pd.merge(df1, df2, on='id', how='inner')\n",
    "print(f'Merged DataFrame:\\n{merged_df}')\n",
    "# Output:\n",
    "#    id     name  age\n",
    "# 0  2      Bob   24\n",
    "# 1  3  Charlie   30\n",
    "# 2  4    David   22\n",
    "\n",
    "# Left join: all rows from df1, matching rows from df2\n",
    "# Note: if no match, NaN for df2 columns\n",
    "# This is useful for keeping all records from the left DataFrame\n",
    "merged_df_left = pd.merge(df1, df2, on='id', how='left')\n",
    "print(f'Left Merged DataFrame:\\n{merged_df_left}')\n",
    "\n",
    "# right join: all rows from df2, matching rows from df1\n",
    "# Note: if no match, NaN for df1 columns\n",
    "# This is useful for keeping all records from the right DataFrame\n",
    "merged_df_right = pd.merge(df1, df2, on='id', how='right')\n",
    "print(f'Right Merged DataFrame:\\n{merged_df_right}')\n",
    "\n",
    "# Outer join: all rows from both DataFrames, NaN where no match\n",
    "# This is useful for keeping all records from both DataFrames\n",
    "merged_df_outer = pd.merge(df1, df2, on='id', how='outer')\n",
    "print(f'Outer Merged DataFrame:\\n{merged_df_outer}')\n"
   ]
  },
  {
   "cell_type": "code",
   "execution_count": null,
   "id": "cceead84",
   "metadata": {},
   "outputs": [
    {
     "name": "stdout",
     "output_type": "stream",
     "text": [
      "Concatenated DataFrame:\n",
      "   id     name   age\n",
      "0   1    Alice   NaN\n",
      "1   2      Bob   NaN\n",
      "2   3  Charlie   NaN\n",
      "3   4    David   NaN\n",
      "4   2      NaN  24.0\n",
      "5   3      NaN  30.0\n",
      "6   4      NaN  22.0\n",
      "7   5      NaN  28.0\n",
      "Concatenated DataFrame along columns:\n",
      "   id     name  id     name\n",
      "0   1    Alice   1    Alice\n",
      "1   2      Bob   2      Bob\n",
      "2   3  Charlie   3  Charlie\n",
      "3   4    David   4    David\n"
     ]
    }
   ],
   "source": [
    "# Concatenating DataFrames\n",
    "# Concatenating along rows (axis=0)\n",
    "# This is useful for stacking DataFrames on top of each other\n",
    "# Note: columns must match, otherwise NaN for missing columns\n",
    "union_df = pd.concat([df1, df2], ignore_index=True) # ignore_index=True resets the index, so no duplicate indices.\n",
    "print(f'Concatenated DataFrame:\\n{union_df}')\n",
    "\n",
    "# Concatenating along columns (axis=1)\n",
    "# This is useful for side-by-side DataFrames\n",
    "# Note: rows must match, otherwise NaN for missing rows\n",
    "# This is useful for side-by-side DataFrames\n",
    "union_df_col = pd.concat([df1, df1], axis=1)\n",
    "print(f'Concatenated DataFrame along columns:\\n{union_df_col}')\n",
    "# Note: This will not work if the number of rows in df1 and df2 are different"
   ]
  }
 ],
 "metadata": {
  "kernelspec": {
   "display_name": ".venv",
   "language": "python",
   "name": "python3"
  },
  "language_info": {
   "codemirror_mode": {
    "name": "ipython",
    "version": 3
   },
   "file_extension": ".py",
   "mimetype": "text/x-python",
   "name": "python",
   "nbconvert_exporter": "python",
   "pygments_lexer": "ipython3",
   "version": "3.13.3"
  }
 },
 "nbformat": 4,
 "nbformat_minor": 5
}
