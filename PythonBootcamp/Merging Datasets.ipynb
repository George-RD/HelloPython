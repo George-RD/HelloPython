{
 "cells": [
  {
   "cell_type": "code",
   "execution_count": 6,
   "id": "33b9ff61",
   "metadata": {},
   "outputs": [
    {
     "name": "stdout",
     "output_type": "stream",
     "text": [
      "Merged DataFrame:\n",
      "   id     name  age\n",
      "0   2      Bob   24\n",
      "1   3  Charlie   30\n",
      "2   4    David   22\n",
      "Left Merged DataFrame:\n",
      "   id     name   age\n",
      "0   1    Alice   NaN\n",
      "1   2      Bob  24.0\n",
      "2   3  Charlie  30.0\n",
      "3   4    David  22.0\n",
      "Right Merged DataFrame:\n",
      "   id     name  age\n",
      "0   2      Bob   24\n",
      "1   3  Charlie   30\n",
      "2   4    David   22\n",
      "3   5      NaN   28\n",
      "Outer Merged DataFrame:\n",
      "   id     name   age\n",
      "0   1    Alice   NaN\n",
      "1   2      Bob  24.0\n",
      "2   3  Charlie  30.0\n",
      "3   4    David  22.0\n",
      "4   5      NaN  28.0\n"
     ]
    }
   ],
   "source": [
    "#Merging Datasets\n",
    "\n",
    "import pandas as pd\n",
    "\n",
    "# Example DataFrames\n",
    "data1 = {'id' : [1, 2, 3, 4],\n",
    "         'name' : ['Alice', 'Bob', 'Charlie', 'David'],}\n",
    "df1 = pd.DataFrame(data1)\n",
    "data2 = {'id' : [2, 3, 4, 5],\n",
    "         'age' : [24, 30, 22, 28],}\n",
    "df2 = pd.DataFrame(data2)\n",
    "\n",
    "# Merge DataFrames on 'id' column\n",
    "\n",
    "# Common key for merge is 'id'\n",
    "# Inner join: only rows with matching 'id' in both DataFrames\n",
    "merged_df = pd.merge(df1, df2, on='id', how='inner')\n",
    "print(f'Merged DataFrame:\\n{merged_df}')\n",
    "# Output:\n",
    "#    id     name  age\n",
    "# 0  2      Bob   24\n",
    "# 1  3  Charlie   30\n",
    "# 2  4    David   22\n",
    "\n",
    "# Left join: all rows from df1, matching rows from df2\n",
    "# Note: if no match, NaN for df2 columns\n",
    "# This is useful for keeping all records from the left DataFrame\n",
    "merged_df_left = pd.merge(df1, df2, on='id', how='left')\n",
    "print(f'Left Merged DataFrame:\\n{merged_df_left}')\n",
    "\n",
    "# right join: all rows from df2, matching rows from df1\n",
    "# Note: if no match, NaN for df1 columns\n",
    "# This is useful for keeping all records from the right DataFrame\n",
    "merged_df_right = pd.merge(df1, df2, on='id', how='right')\n",
    "print(f'Right Merged DataFrame:\\n{merged_df_right}')\n",
    "\n",
    "# Outer join: all rows from both DataFrames, NaN where no match\n",
    "# This is useful for keeping all records from both DataFrames\n",
    "merged_df_outer = pd.merge(df1, df2, on='id', how='outer')\n",
    "print(f'Outer Merged DataFrame:\\n{merged_df_outer}')\n"
   ]
  },
  {
   "cell_type": "code",
   "execution_count": null,
   "id": "cceead84",
   "metadata": {},
   "outputs": [
    {
     "name": "stdout",
     "output_type": "stream",
     "text": [
      "Concatenated DataFrame:\n",
      "   id     name   age\n",
      "0   1    Alice   NaN\n",
      "1   2      Bob   NaN\n",
      "2   3  Charlie   NaN\n",
      "3   4    David   NaN\n",
      "4   2      NaN  24.0\n",
      "5   3      NaN  30.0\n",
      "6   4      NaN  22.0\n",
      "7   5      NaN  28.0\n",
      "Concatenated DataFrame along columns:\n",
      "   id     name  id     name\n",
      "0   1    Alice   1    Alice\n",
      "1   2      Bob   2      Bob\n",
      "2   3  Charlie   3  Charlie\n",
      "3   4    David   4    David\n"
     ]
    }
   ],
   "source": [
    "# Concatenating DataFrames\n",
    "# Concatenating along rows (axis=0)\n",
    "# This is useful for stacking DataFrames on top of each other\n",
    "# Note: columns must match, otherwise NaN for missing columns\n",
    "union_df = pd.concat([df1, df2], ignore_index=True) # ignore_index=True resets the index, so no duplicate indices.\n",
    "print(f'Concatenated DataFrame:\\n{union_df}')\n",
    "\n",
    "# Concatenating along columns (axis=1)\n",
    "# This is useful for side-by-side DataFrames\n",
    "# Note: rows must match, otherwise NaN for missing rows\n",
    "# This is useful for side-by-side DataFrames\n",
    "union_df_col = pd.concat([df1, df1], axis=1)\n",
    "print(f'Concatenated DataFrame along columns:\\n{union_df_col}')\n",
    "# Note: This will not work if the number of rows in df1 and df2 are different"
   ]
  },
  {
   "cell_type": "code",
   "execution_count": 19,
   "id": "c9f6fecf",
   "metadata": {},
   "outputs": [
    {
     "data": {
      "text/html": [
       "<div>\n",
       "<style scoped>\n",
       "    .dataframe tbody tr th:only-of-type {\n",
       "        vertical-align: middle;\n",
       "    }\n",
       "\n",
       "    .dataframe tbody tr th {\n",
       "        vertical-align: top;\n",
       "    }\n",
       "\n",
       "    .dataframe thead th {\n",
       "        text-align: right;\n",
       "    }\n",
       "</style>\n",
       "<table border=\"1\" class=\"dataframe\">\n",
       "  <thead>\n",
       "    <tr style=\"text-align: right;\">\n",
       "      <th></th>\n",
       "      <th>Department</th>\n",
       "      <th>Employee</th>\n",
       "      <th>Salary</th>\n",
       "    </tr>\n",
       "  </thead>\n",
       "  <tbody>\n",
       "    <tr>\n",
       "      <th>0</th>\n",
       "      <td>HR</td>\n",
       "      <td>A</td>\n",
       "      <td>40000</td>\n",
       "    </tr>\n",
       "    <tr>\n",
       "      <th>1</th>\n",
       "      <td>IT</td>\n",
       "      <td>B</td>\n",
       "      <td>50000</td>\n",
       "    </tr>\n",
       "    <tr>\n",
       "      <th>2</th>\n",
       "      <td>HR</td>\n",
       "      <td>C</td>\n",
       "      <td>42000</td>\n",
       "    </tr>\n",
       "    <tr>\n",
       "      <th>3</th>\n",
       "      <td>Finance</td>\n",
       "      <td>D</td>\n",
       "      <td>60000</td>\n",
       "    </tr>\n",
       "    <tr>\n",
       "      <th>4</th>\n",
       "      <td>IT</td>\n",
       "      <td>E</td>\n",
       "      <td>52000</td>\n",
       "    </tr>\n",
       "  </tbody>\n",
       "</table>\n",
       "</div>"
      ],
      "text/plain": [
       "  Department Employee  Salary\n",
       "0         HR        A   40000\n",
       "1         IT        B   50000\n",
       "2         HR        C   42000\n",
       "3    Finance        D   60000\n",
       "4         IT        E   52000"
      ]
     },
     "execution_count": 19,
     "metadata": {},
     "output_type": "execute_result"
    }
   ],
   "source": [
    "df = pd.DataFrame({\n",
    "    'Department': ['HR', 'IT', 'HR', 'Finance', 'IT'],\n",
    "    'Employee': ['A', 'B', 'C', 'D', 'E'],\n",
    "    'Salary': [40000, 50000, 42000, 60000, 52000]\n",
    "})\n",
    "df"
   ]
  },
  {
   "cell_type": "code",
   "execution_count": null,
   "id": "abd1c869",
   "metadata": {},
   "outputs": [
    {
     "name": "stdout",
     "output_type": "stream",
     "text": [
      "Grouped by Department and sum of Salary:\n",
      "Department\n",
      "Finance     60000\n",
      "HR          82000\n",
      "IT         102000\n",
      "Name: Salary, dtype: int64\n",
      "\n",
      "Grouped by Department and aggregate functions:\n",
      "               sum     mean    max  count\n",
      "Department                               \n",
      "Finance      60000  60000.0  60000      1\n",
      "HR           82000  41000.0  42000      2\n",
      "IT          102000  51000.0  52000      2\n",
      "Grouped by Department and custom function:\n",
      "Department\n",
      "Finance       0\n",
      "HR         2000\n",
      "IT         2000\n",
      "Name: Salary, dtype: int64\n",
      "\n",
      "Grouped by Department with multiple functions:\n",
      "            Total_Salary  Average_Salary  Max_Salary  Min_Salary\n",
      "Department                                                      \n",
      "Finance            60000         60000.0       60000       60000\n",
      "HR                 82000         41000.0       42000       40000\n",
      "IT                102000         51000.0       52000       50000\n",
      "\n"
     ]
    }
   ],
   "source": [
    "# groupby() method\n",
    "# This is useful for splitting the DataFrame into groups based on some criteria\n",
    "# Group by 'Department' and calculate the sum of 'Salary'\n",
    "df_sum = df.groupby('Department')['Salary'].sum()\n",
    "print(f'Grouped by Department and sum of Salary:\\n{df_sum}\\n')\n",
    "# Group by 'Department' and aggregate multiple functions\n",
    "# This is useful for applying multiple functions to the grouped data\n",
    "df_agg = df.groupby('Department')['Salary'].aggregate(['sum', 'mean', 'max', 'count'])\n",
    "print(f'Grouped by Department and aggregate functions:\\n{df_agg}')\n",
    "# Group by 'Department' and apply a custom function\n",
    "# This is useful for applying a custom function to the grouped data\n",
    "x = lambda x: x.max() - x.min()\n",
    "# def custom_func(x):\n",
    "#     return x.max() - x.min()\n",
    "df_custom = df.groupby('Department')['Salary'].agg(x)\n",
    "print(f'Grouped by Department and custom function:\\n{df_custom}\\n')\n",
    "\n",
    "df_grouped_functions = df.groupby('Department').agg(\n",
    "    Total_Salary=('Salary', 'sum'),\n",
    "    Average_Salary=('Salary', 'mean'),\n",
    "    Max_Salary=('Salary', 'max'),\n",
    "    Min_Salary=('Salary', 'min')\n",
    ")\n",
    "print(f'Grouped by Department with multiple functions:\\n{df_grouped_functions}\\n')\n",
    "\n",
    "# the example above is the same functionality as df_agg, except it has new column names\n",
    "\n"
   ]
  },
  {
   "cell_type": "code",
   "execution_count": null,
   "id": "b1272643",
   "metadata": {},
   "outputs": [
    {
     "data": {
      "text/plain": [
       "'82,000.0000000000'"
      ]
     },
     "execution_count": 63,
     "metadata": {},
     "output_type": "execute_result"
    }
   ],
   "source": [
    "# Formatting with comma and decimals\n",
    "result = df.groupby('Department').agg(\n",
    "    Total_Salary=('Salary', 'sum'),\n",
    "    Average_Salary=('Salary', 'mean'),\n",
    ")\n",
    "\n",
    "result['Total_Salary'] = result['Total_Salary'].apply(lambda x: f'{x:,.10f}')\n",
    "#result\n",
    "\n",
    "result.iloc[1,0:1].Total_Salary\n",
    "# type(result.iloc[1,0:1].Total_Salary)\n",
    "\n"
   ]
  },
  {
   "cell_type": "code",
   "execution_count": 76,
   "id": "0d65ecf8",
   "metadata": {},
   "outputs": [
    {
     "data": {
      "text/html": [
       "<style type=\"text/css\">\n",
       "</style>\n",
       "<table id=\"T_50423\">\n",
       "  <thead>\n",
       "    <tr>\n",
       "      <th class=\"blank level0\" >&nbsp;</th>\n",
       "      <th id=\"T_50423_level0_col0\" class=\"col_heading level0 col0\" >Total_Salary</th>\n",
       "      <th id=\"T_50423_level0_col1\" class=\"col_heading level0 col1\" >Average_Salary</th>\n",
       "    </tr>\n",
       "    <tr>\n",
       "      <th class=\"index_name level0\" >Department</th>\n",
       "      <th class=\"blank col0\" >&nbsp;</th>\n",
       "      <th class=\"blank col1\" >&nbsp;</th>\n",
       "    </tr>\n",
       "  </thead>\n",
       "  <tbody>\n",
       "    <tr>\n",
       "      <th id=\"T_50423_level0_row0\" class=\"row_heading level0 row0\" >Finance</th>\n",
       "      <td id=\"T_50423_row0_col0\" class=\"data row0 col0\" >60,000.00000000000000000000</td>\n",
       "      <td id=\"T_50423_row0_col1\" class=\"data row0 col1\" >60,000.00</td>\n",
       "    </tr>\n",
       "    <tr>\n",
       "      <th id=\"T_50423_level0_row1\" class=\"row_heading level0 row1\" >HR</th>\n",
       "      <td id=\"T_50423_row1_col0\" class=\"data row1 col0\" >82,000.00000000000000000000</td>\n",
       "      <td id=\"T_50423_row1_col1\" class=\"data row1 col1\" >41,000.00</td>\n",
       "    </tr>\n",
       "    <tr>\n",
       "      <th id=\"T_50423_level0_row2\" class=\"row_heading level0 row2\" >IT</th>\n",
       "      <td id=\"T_50423_row2_col0\" class=\"data row2 col0\" >102,000.00000000000000000000</td>\n",
       "      <td id=\"T_50423_row2_col1\" class=\"data row2 col1\" >51,000.00</td>\n",
       "    </tr>\n",
       "  </tbody>\n",
       "</table>\n"
      ],
      "text/plain": [
       "<pandas.io.formats.style.Styler at 0x11b128410>"
      ]
     },
     "execution_count": 76,
     "metadata": {},
     "output_type": "execute_result"
    }
   ],
   "source": [
    "result = df.groupby('Department').agg(\n",
    "    Total_Salary=('Salary', 'sum'),\n",
    "    Average_Salary=('Salary', 'mean'),\n",
    ")\n",
    "\n",
    "result_styled = result.style.format(\n",
    "    {\n",
    "        'Total_Salary': '{:,.20f}',\n",
    "        'Average_Salary': '{:,.2f}'\n",
    "    }\n",
    ")\n",
    "# result_styled\n",
    "result_styled\n",
    "\n",
    "result.iloc[1,0:1].Total_Salary\n",
    "\n",
    "result_styled"
   ]
  }
 ],
 "metadata": {
  "kernelspec": {
   "display_name": ".venv",
   "language": "python",
   "name": "python3"
  },
  "language_info": {
   "codemirror_mode": {
    "name": "ipython",
    "version": 3
   },
   "file_extension": ".py",
   "mimetype": "text/x-python",
   "name": "python",
   "nbconvert_exporter": "python",
   "pygments_lexer": "ipython3",
   "version": "3.13.3"
  }
 },
 "nbformat": 4,
 "nbformat_minor": 5
}
