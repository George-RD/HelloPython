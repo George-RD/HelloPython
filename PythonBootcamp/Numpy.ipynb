{
 "cells": [
  {
   "cell_type": "markdown",
   "id": "262ac3b8",
   "metadata": {},
   "source": [
    "# Arrays"
   ]
  },
  {
   "cell_type": "code",
   "execution_count": null,
   "id": "3578702b",
   "metadata": {},
   "outputs": [],
   "source": []
  },
  {
   "cell_type": "markdown",
   "id": "f564b034",
   "metadata": {},
   "source": [
    "## 2-D Arrays"
   ]
  },
  {
   "cell_type": "code",
   "execution_count": 37,
   "id": "5975c972",
   "metadata": {},
   "outputs": [
    {
     "name": "stdout",
     "output_type": "stream",
     "text": [
      "2nd element on 1st row:  2\n",
      "2\n"
     ]
    }
   ],
   "source": [
    "import numpy as np\n",
    "\n",
    "arr = np.array([[1,2,3,4,5], [6,7,8,9,10]])\n",
    "\n",
    "print('2nd element on 1st row: ', arr[0,1])\n",
    "\n",
    "print(arr.ndim)   # shows the dimension of the array"
   ]
  },
  {
   "cell_type": "markdown",
   "id": "9782513a",
   "metadata": {},
   "source": [
    "## Slicing Arrays"
   ]
  },
  {
   "cell_type": "code",
   "execution_count": null,
   "id": "0701f4e8",
   "metadata": {},
   "outputs": [
    {
     "name": "stdout",
     "output_type": "stream",
     "text": [
      "[1 3 5 7]\n"
     ]
    }
   ],
   "source": [
    "import numpy as np\n",
    "\n",
    "arr = np.array([1,2,3,4,5,6,7])\n",
    "\n",
    "print(arr[::2])    # every other 2 numbers"
   ]
  },
  {
   "cell_type": "markdown",
   "id": "12ac03bf",
   "metadata": {},
   "source": [
    "### Slicing 2-D array"
   ]
  },
  {
   "cell_type": "code",
   "execution_count": 62,
   "id": "79415c39",
   "metadata": {},
   "outputs": [
    {
     "name": "stdout",
     "output_type": "stream",
     "text": [
      "[7 8 9]\n",
      "[1 2]\n",
      "[3 8]\n",
      "[[ 4  5]\n",
      " [ 9 10]]\n",
      "<class 'numpy.ndarray'>\n"
     ]
    }
   ],
   "source": [
    "import numpy as np\n",
    "\n",
    "arr = np.array([[1,2,3,4,5],[6,7,8,9,10]])\n",
    "\n",
    "print(arr[1, 1:4]) # 2nd to 4th from second array\n",
    "\n",
    "print(arr[0, 0:2])  # 1st to second from first array\n",
    "\n",
    "print(arr[0:2,2]) # 3rd number from each array\n",
    "\n",
    "print(arr[0:2,3:5]) # 4th and 5th from each array\n",
    "\n",
    "print(type(arr))"
   ]
  },
  {
   "cell_type": "markdown",
   "id": "e2ffc8bf",
   "metadata": {},
   "source": [
    "## Copying an array"
   ]
  },
  {
   "cell_type": "code",
   "execution_count": 25,
   "id": "82fd3229",
   "metadata": {},
   "outputs": [
    {
     "name": "stdout",
     "output_type": "stream",
     "text": [
      "[ 1  2  3 42  5]\n",
      "[1 2 3 4 5]\n"
     ]
    }
   ],
   "source": [
    "import numpy as np\n",
    "\n",
    "arr = np.array([1,2,3,4,5])\n",
    "x = arr.copy()\n",
    "arr[3] = 42\n",
    "\n",
    "print(arr)\n",
    "print(x)"
   ]
  },
  {
   "cell_type": "markdown",
   "id": "fbf2d92f",
   "metadata": {},
   "source": [
    "## Print the shape of a 2-D array"
   ]
  },
  {
   "cell_type": "code",
   "execution_count": 40,
   "id": "b8d35a09",
   "metadata": {},
   "outputs": [
    {
     "name": "stdout",
     "output_type": "stream",
     "text": [
      "[[[[[1 2 3 4]]]]]\n",
      "Shape of array: (1, 1, 1, 1, 4)\n"
     ]
    }
   ],
   "source": [
    "import numpy as np\n",
    "\n",
    "arr = np.array([1,2,3,4], ndmin=5)  # tells it to create it as a 5 dimensional one\n",
    "\n",
    "print(arr)\n",
    "print(f\"Shape of array: {arr.shape}\")"
   ]
  },
  {
   "cell_type": "markdown",
   "id": "ad9f3a2f",
   "metadata": {},
   "source": [
    "## Reshape Array\n",
    "\n",
    "All elements have to be mapped."
   ]
  },
  {
   "cell_type": "code",
   "execution_count": 2,
   "id": "c29067bc",
   "metadata": {},
   "outputs": [
    {
     "name": "stdout",
     "output_type": "stream",
     "text": [
      "[[ 1  2  3  4]\n",
      " [ 5  6  7  8]\n",
      " [ 9 10 11 12]]\n",
      " \n",
      "\n",
      " [[ 1  2  3  4  5  6]\n",
      " [ 7  8  9 10 11 12]]\n"
     ]
    }
   ],
   "source": [
    "import numpy as np\n",
    "\n",
    "arr = np.array([1,2,3,4,5,6,7,8,9,10,11,12])\n",
    "\n",
    "newarr = arr.reshape(3, 4)\n",
    "\n",
    "print(newarr)\n",
    "\n",
    "newarr = arr.reshape(2, 6)\n",
    "\n",
    "print(\" \\n\\n\",newarr)"
   ]
  },
  {
   "cell_type": "code",
   "execution_count": 17,
   "id": "e293eb3b",
   "metadata": {},
   "outputs": [
    {
     "name": "stdout",
     "output_type": "stream",
     "text": [
      "1\n",
      "2\n",
      "3\n",
      "4\n",
      "5\n",
      "6\n",
      "7\n",
      "8\n"
     ]
    }
   ],
   "source": [
    "import numpy as np\n",
    "\n",
    "arr = np.array([[[1,2],[3,4],[5,6],[7,8]]])\n",
    "\n",
    "\n",
    "for x in np.nditer(arr):\n",
    "    print(x)"
   ]
  },
  {
   "cell_type": "code",
   "execution_count": 20,
   "id": "6e74211e",
   "metadata": {},
   "outputs": [
    {
     "name": "stdout",
     "output_type": "stream",
     "text": [
      "[1 2 3 4 5 6]\n"
     ]
    }
   ],
   "source": [
    "import numpy as np\n",
    "\n",
    "arr1 = np.array([1,2,3])\n",
    "\n",
    "arr2 = np.array([4,5,6])\n",
    "\n",
    "arr = np.concatenate((arr1,arr2))\n",
    "\n",
    "print(arr)"
   ]
  },
  {
   "cell_type": "code",
   "execution_count": null,
   "id": "2db65504",
   "metadata": {},
   "outputs": [
    {
     "name": "stdout",
     "output_type": "stream",
     "text": [
      "[array([1, 2]), array([3, 4]), array([5, 6])]\n",
      "\n",
      "\n",
      " 2\n"
     ]
    }
   ],
   "source": [
    "# Split Array\n",
    "\n",
    "import numpy as np\n",
    "\n",
    "arr = np.array([1,2,3,4,5,6])\n",
    "\n",
    "newarr = np.array_split(arr,3)\n",
    "\n",
    "print(newarr)\n",
    "\n",
    "# this is a LIST containing 3 arrays\n",
    "\n",
    "print(\"\\n\\n\",newarr[0][1])"
   ]
  },
  {
   "cell_type": "code",
   "execution_count": 31,
   "id": "69697f86",
   "metadata": {},
   "outputs": [
    {
     "name": "stdout",
     "output_type": "stream",
     "text": [
      "[array([1, 2]), array([3, 4]), array([5]), array([6])]\n"
     ]
    }
   ],
   "source": [
    "# Split into 4 arrays\n",
    "\n",
    "import numpy as np\n",
    "\n",
    "arr = np.array([1,2,3,4,5,6])\n",
    "\n",
    "newarr = np.array_split(arr,4)\n",
    "\n",
    "print(newarr)"
   ]
  },
  {
   "cell_type": "code",
   "execution_count": 58,
   "id": "42bd5989",
   "metadata": {},
   "outputs": [
    {
     "name": "stdout",
     "output_type": "stream",
     "text": [
      "(array([3, 5, 6]),)\n",
      "<class 'tuple'>\n"
     ]
    }
   ],
   "source": [
    "import numpy as np\n",
    "\n",
    "arr = np.array([1,2,3,4,5,4,4])\n",
    "\n",
    "x = np.where(arr == 4)\n",
    "\n",
    "print(x)\n",
    "print(type(x))"
   ]
  },
  {
   "cell_type": "code",
   "execution_count": null,
   "id": "e5a63d33",
   "metadata": {},
   "outputs": [
    {
     "name": "stdout",
     "output_type": "stream",
     "text": [
      "[  4   6  12  15  34 100]\n",
      "[100  34  15  12   6   4]\n"
     ]
    }
   ],
   "source": [
    "import numpy as np\n",
    "arr = np.array([100,12,34,4,15,6])\n",
    "print(np.sort(arr))\n",
    "print(np.sort(arr)[::-1])  # descending order  [start:stop:step]\n",
    "\n"
   ]
  }
 ],
 "metadata": {
  "kernelspec": {
   "display_name": ".venv",
   "language": "python",
   "name": "python3"
  },
  "language_info": {
   "codemirror_mode": {
    "name": "ipython",
    "version": 3
   },
   "file_extension": ".py",
   "mimetype": "text/x-python",
   "name": "python",
   "nbconvert_exporter": "python",
   "pygments_lexer": "ipython3",
   "version": "3.13.3"
  }
 },
 "nbformat": 4,
 "nbformat_minor": 5
}
