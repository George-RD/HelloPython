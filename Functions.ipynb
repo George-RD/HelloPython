{
 "cells": [
  {
   "cell_type": "markdown",
   "id": "1e407b4c",
   "metadata": {},
   "source": [
    "# Single Argument Function"
   ]
  },
  {
   "cell_type": "code",
   "execution_count": 1,
   "id": "282cd4b4",
   "metadata": {},
   "outputs": [
    {
     "name": "stdout",
     "output_type": "stream",
     "text": [
      "Emil Refsnes\n",
      "Tobias Refsnes\n"
     ]
    }
   ],
   "source": [
    "def myfunction(fname):\n",
    "    print(fname+\" Refsnes\")\n",
    "\n",
    "myfunction(\"Emil\")\n",
    "myfunction(\"Tobias\")"
   ]
  },
  {
   "cell_type": "markdown",
   "id": "efbd8440",
   "metadata": {},
   "source": [
    "# Two Argument Function"
   ]
  },
  {
   "cell_type": "code",
   "execution_count": 2,
   "id": "db8357b9",
   "metadata": {},
   "outputs": [
    {
     "name": "stdout",
     "output_type": "stream",
     "text": [
      "Emil Refsnes\n"
     ]
    }
   ],
   "source": [
    "def my_function(fname,lname):\n",
    "    print(f\"{fname} {lname}\")\n",
    "\n",
    "my_function(\"Emil\",\"Refsnes\")"
   ]
  },
  {
   "cell_type": "markdown",
   "id": "b347272a",
   "metadata": {},
   "source": [
    "# Function with multiple values as an argument"
   ]
  },
  {
   "cell_type": "code",
   "execution_count": 7,
   "id": "2013d107",
   "metadata": {},
   "outputs": [
    {
     "name": "stdout",
     "output_type": "stream",
     "text": [
      "The youngest child is Linus\n"
     ]
    }
   ],
   "source": [
    "def my_function(*kids):\n",
    "    print (\"The youngest child is \" + kids[2])\n",
    "my_function(\"Emil\",\"Tobias\",\"Linus\")"
   ]
  },
  {
   "cell_type": "markdown",
   "id": "fc812088",
   "metadata": {},
   "source": [
    "# Function with a default argument in case nothing is passed when calling"
   ]
  },
  {
   "cell_type": "code",
   "execution_count": 9,
   "id": "49bcd939",
   "metadata": {},
   "outputs": [
    {
     "name": "stdout",
     "output_type": "stream",
     "text": [
      "I am from Sweden\n",
      "I am from India\n",
      "I am from Norway\n"
     ]
    }
   ],
   "source": [
    "def my_func(country=\"Norway\"):\n",
    "    print(f\"I am from {country}\")\n",
    "\n",
    "my_func(\"Sweden\")\n",
    "my_func(\"India\")\n",
    "my_func()"
   ]
  },
  {
   "cell_type": "markdown",
   "id": "b4361226",
   "metadata": {},
   "source": [
    "# Existing Python Function use"
   ]
  },
  {
   "cell_type": "code",
   "execution_count": 11,
   "id": "ea7904ff",
   "metadata": {},
   "outputs": [
    {
     "name": "stdout",
     "output_type": "stream",
     "text": [
      "18\n"
     ]
    }
   ],
   "source": [
    "x=min(23,45,87.543,332,18)\n",
    "print(x)"
   ]
  },
  {
   "cell_type": "markdown",
   "id": "2d215be5",
   "metadata": {},
   "source": [
    "# Import Library and using them"
   ]
  },
  {
   "cell_type": "code",
   "execution_count": 32,
   "id": "13076f7f",
   "metadata": {},
   "outputs": [
    {
     "name": "stdout",
     "output_type": "stream",
     "text": [
      "['__doc__', '__file__', '__loader__', '__name__', '__package__', '__spec__', 'acos', 'acosh', 'asin', 'asinh', 'atan', 'atan2', 'atanh', 'cbrt', 'ceil', 'comb', 'copysign', 'cos', 'cosh', 'degrees', 'dist', 'e', 'erf', 'erfc', 'exp', 'exp2', 'expm1', 'fabs', 'factorial', 'floor', 'fma', 'fmod', 'frexp', 'fsum', 'gamma', 'gcd', 'hypot', 'inf', 'isclose', 'isfinite', 'isinf', 'isnan', 'isqrt', 'lcm', 'ldexp', 'lgamma', 'log', 'log10', 'log1p', 'log2', 'modf', 'nan', 'nextafter', 'perm', 'pi', 'pow', 'prod', 'radians', 'remainder', 'sin', 'sinh', 'sqrt', 'sumprod', 'tan', 'tanh', 'tau', 'trunc', 'ulp']\n"
     ]
    }
   ],
   "source": [
    "import math as woop\n",
    "from math import pi\n",
    "print(dir(math))"
   ]
  },
  {
   "cell_type": "code",
   "execution_count": 30,
   "id": "e87d6aec",
   "metadata": {},
   "outputs": [
    {
     "name": "stdout",
     "output_type": "stream",
     "text": [
      "3.141592653589793\n",
      "3.141592653589793\n",
      "3.141592653589793\n"
     ]
    }
   ],
   "source": [
    "print(math.pi)\n",
    "\n",
    "print(woop.pi)\n",
    "print(pi)"
   ]
  },
  {
   "cell_type": "markdown",
   "id": "ffe60a8d",
   "metadata": {},
   "source": [
    "# math power always a float"
   ]
  },
  {
   "cell_type": "code",
   "execution_count": 45,
   "id": "6b09ff63",
   "metadata": {},
   "outputs": [
    {
     "name": "stdout",
     "output_type": "stream",
     "text": [
      "100\n"
     ]
    },
    {
     "data": {
      "text/plain": [
       "100.0"
      ]
     },
     "execution_count": 45,
     "metadata": {},
     "output_type": "execute_result"
    }
   ],
   "source": [
    "print(10 ** 2)\n",
    "math.pow(10,2)"
   ]
  },
  {
   "cell_type": "code",
   "execution_count": null,
   "id": "68999266",
   "metadata": {},
   "outputs": [
    {
     "name": "stdout",
     "output_type": "stream",
     "text": [
      "Select operation.\n",
      "1.Add\n",
      "2.Subtract\n",
      "3.Multiply\n",
      "4.Divide\n",
      "5.Exit\n",
      "2.0 / 4.0 =  0.5\n",
      "Cannot divide by zero\n",
      "2.0 / 3.0 =  0.6666666666666666\n",
      "Exiting...\n"
     ]
    }
   ],
   "source": [
    "\n",
    "def add(x,y):\n",
    "    print(f\"{x} + {y} = \",x + y)\n",
    "\n",
    "def subtract(x,y):\n",
    "    print(f\"{x} - {y} = \",x - y)\n",
    "\n",
    "def multiply(x,y):\n",
    "    print(f\"{x} * {y} = \",x * y)\n",
    "\n",
    "def divide(x,y):\n",
    "    if y == 0:\n",
    "        print(\"Cannot divide by zero\")\n",
    "        return\n",
    "    print(f\"{x} / {y} = \",x / y)\n",
    "\n",
    "\n",
    "print(\"Select operation.\")\n",
    "print(\"1.Add\")\n",
    "print(\"2.Subtract\")\n",
    "print(\"3.Multiply\")\n",
    "print(\"4.Divide\")\n",
    "print(\"5.Exit\")\n",
    "\n",
    "exitval = False\n",
    "while True:\n",
    "    if exitval == True:\n",
    "        print(\"Exiting...\")\n",
    "        break\n",
    "    choice = input(\"Enter Choice:\")\n",
    "    if choice == '5':\n",
    "        print(\"Exiting...\")\n",
    "        break\n",
    "    elif choice not in ['1','2','3','4']:\n",
    "        print(\"Choose a number between 1 and 4\")\n",
    "    else:\n",
    "        while True:\n",
    "            try:\n",
    "                num1 = float(input(\"Enter First number:\"))\n",
    "                num2 = float(input(\"Enter Second number:\"))\n",
    "                if choice == '1':\n",
    "                    add(num1,num2)\n",
    "                elif choice == '2':\n",
    "                    subtract(num1,num2)\n",
    "                elif choice == '3':\n",
    "                    multiply(num1,num2)\n",
    "                elif choice == '4':\n",
    "                    divide(num1,num2)\n",
    "                else:\n",
    "                    print(\"Invalid Input\")\n",
    "                next_calculation = input(\"Continue [Y]es or [N]o\")\n",
    "                if next_calculation == \"\":\n",
    "                    continue\n",
    "                elif next_calculation[0].lower() == \"n\":\n",
    "                    exitval = True\n",
    "                    break\n",
    "            except ValueError:\n",
    "                print(\"Invalid Input\")\n",
    "                continue\n",
    "\n"
   ]
  }
 ],
 "metadata": {
  "kernelspec": {
   "display_name": "Python 3",
   "language": "python",
   "name": "python3"
  },
  "language_info": {
   "codemirror_mode": {
    "name": "ipython",
    "version": 3
   },
   "file_extension": ".py",
   "mimetype": "text/x-python",
   "name": "python",
   "nbconvert_exporter": "python",
   "pygments_lexer": "ipython3",
   "version": "3.13.3"
  }
 },
 "nbformat": 4,
 "nbformat_minor": 5
}
