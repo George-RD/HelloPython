{
 "cells": [
  {
   "cell_type": "markdown",
   "id": "07a90836",
   "metadata": {},
   "source": [
    "# Class Polymorphism\n",
    "\n",
    "Often used to use the same function name for different classes. Different classes with same method."
   ]
  },
  {
   "cell_type": "code",
   "execution_count": 4,
   "id": "3f142f76",
   "metadata": {},
   "outputs": [
    {
     "name": "stdout",
     "output_type": "stream",
     "text": [
      "Drive\n",
      "Sail\n",
      "Fly!\n"
     ]
    }
   ],
   "source": [
    "class Car:\n",
    "    def __init__(self,brand,model):\n",
    "        self.brand = brand\n",
    "        self.model = model\n",
    "    def move(self):\n",
    "        print(\"Drive\")\n",
    "\n",
    "class Boat:\n",
    "    def __init__(self,brand,model):\n",
    "        self.brand = brand\n",
    "        self.model = model\n",
    "    def move(self):\n",
    "        print(\"Sail\")\n",
    "\n",
    "class Plane(Boat):\n",
    "    def __init__(self,brand,model):\n",
    "        super().__init__(brand,model)\n",
    "    def move(self):\n",
    "        print(\"Fly!\")\n",
    "\n",
    "car1 = Car(\"Toyota\", \"FJ Cruiser\")\n",
    "boat1 = Boat(\"Amel\", \"57\")\n",
    "plane1 = Plane(\"Boeing\",\"747\")   \n",
    "\n",
    "car1.move()\n",
    "boat1.move()\n",
    "plane1.move()"
   ]
  }
 ],
 "metadata": {
  "kernelspec": {
   "display_name": ".venv",
   "language": "python",
   "name": "python3"
  },
  "language_info": {
   "codemirror_mode": {
    "name": "ipython",
    "version": 3
   },
   "file_extension": ".py",
   "mimetype": "text/x-python",
   "name": "python",
   "nbconvert_exporter": "python",
   "pygments_lexer": "ipython3",
   "version": "3.13.3"
  }
 },
 "nbformat": 4,
 "nbformat_minor": 5
}
