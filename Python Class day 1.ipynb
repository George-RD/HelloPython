{
 "cells": [
  {
   "cell_type": "markdown",
   "id": "fddae8f6",
   "metadata": {},
   "source": [
    "# Camel Case"
   ]
  },
  {
   "cell_type": "code",
   "execution_count": 28,
   "id": "93ca525c",
   "metadata": {},
   "outputs": [],
   "source": [
    "myVariableName = \"myVariableName\""
   ]
  },
  {
   "cell_type": "markdown",
   "id": "28a62897",
   "metadata": {},
   "source": [
    "# Pascal Case"
   ]
  },
  {
   "cell_type": "code",
   "execution_count": 29,
   "id": "3a468791",
   "metadata": {},
   "outputs": [],
   "source": [
    "MyVariableName = \"MyVariableName\""
   ]
  },
  {
   "cell_type": "markdown",
   "id": "d6762fb6",
   "metadata": {},
   "source": [
    "# Snake Case"
   ]
  },
  {
   "cell_type": "code",
   "execution_count": 30,
   "id": "a2b8bb19",
   "metadata": {},
   "outputs": [],
   "source": [
    "my_variable_name = \"my_variable_name\""
   ]
  },
  {
   "cell_type": "markdown",
   "id": "69d64f1a",
   "metadata": {},
   "source": [
    "# Data Types\n",
    "\n",
    "- Text Type: str\n",
    "- Numeric Types: int, float, complex\n",
    "- Sequence Types: list, tuple, range\n",
    "- Mapping Types: dict\n",
    "\n",
    "## Getting the Data Type\n",
    "You can get the data type of any object using the type() function."
   ]
  },
  {
   "cell_type": "code",
   "execution_count": 31,
   "id": "fc95588a",
   "metadata": {},
   "outputs": [
    {
     "name": "stdout",
     "output_type": "stream",
     "text": [
      "<class 'int'>\n"
     ]
    }
   ],
   "source": [
    "x = 5\n",
    "print(type(x))"
   ]
  },
  {
   "cell_type": "markdown",
   "id": "7699faf4",
   "metadata": {},
   "source": [
    "# User Input"
   ]
  },
  {
   "cell_type": "code",
   "execution_count": 34,
   "id": "f5696922",
   "metadata": {},
   "outputs": [
    {
     "name": "stdout",
     "output_type": "stream",
     "text": [
      "Hello George!\n"
     ]
    }
   ],
   "source": [
    "name = input (\"Enter your name:\")\n",
    "print(\"Hello\",name + \"!\")"
   ]
  }
 ],
 "metadata": {
  "kernelspec": {
   "display_name": ".venv",
   "language": "python",
   "name": "python3"
  },
  "language_info": {
   "codemirror_mode": {
    "name": "ipython",
    "version": 3
   },
   "file_extension": ".py",
   "mimetype": "text/x-python",
   "name": "python",
   "nbconvert_exporter": "python",
   "pygments_lexer": "ipython3",
   "version": "3.13.3"
  }
 },
 "nbformat": 4,
 "nbformat_minor": 5
}
