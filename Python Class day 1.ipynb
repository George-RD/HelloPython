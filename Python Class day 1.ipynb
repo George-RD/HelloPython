{
 "cells": [
  {
   "cell_type": "markdown",
   "id": "fddae8f6",
   "metadata": {},
   "source": [
    "# Camel Case"
   ]
  },
  {
   "cell_type": "code",
   "execution_count": 39,
   "id": "93ca525c",
   "metadata": {},
   "outputs": [],
   "source": [
    "myVariableName = \"myVariableName\""
   ]
  },
  {
   "cell_type": "markdown",
   "id": "28a62897",
   "metadata": {},
   "source": [
    "# Pascal Case"
   ]
  },
  {
   "cell_type": "code",
   "execution_count": 40,
   "id": "3a468791",
   "metadata": {},
   "outputs": [],
   "source": [
    "MyVariableName = \"MyVariableName\""
   ]
  },
  {
   "cell_type": "markdown",
   "id": "d6762fb6",
   "metadata": {},
   "source": [
    "# Snake Case"
   ]
  },
  {
   "cell_type": "code",
   "execution_count": 41,
   "id": "a2b8bb19",
   "metadata": {},
   "outputs": [],
   "source": [
    "my_variable_name = \"my_variable_name\""
   ]
  },
  {
   "cell_type": "markdown",
   "id": "69d64f1a",
   "metadata": {},
   "source": [
    "# Data Types\n",
    "\n",
    "- Text Type: str\n",
    "- Numeric Types: int, float, complex\n",
    "- Sequence Types: list, tuple, range\n",
    "- Mapping Types: dict\n",
    "\n",
    "## Getting the Data Type\n",
    "You can get the data type of any object using the type() function."
   ]
  },
  {
   "cell_type": "code",
   "execution_count": 42,
   "id": "fc95588a",
   "metadata": {},
   "outputs": [
    {
     "name": "stdout",
     "output_type": "stream",
     "text": [
      "<class 'int'>\n"
     ]
    }
   ],
   "source": [
    "x = 5\n",
    "print(type(x))"
   ]
  },
  {
   "cell_type": "markdown",
   "id": "7699faf4",
   "metadata": {},
   "source": [
    "# User Input"
   ]
  },
  {
   "cell_type": "code",
   "execution_count": 43,
   "id": "f5696922",
   "metadata": {},
   "outputs": [
    {
     "name": "stdout",
     "output_type": "stream",
     "text": [
      "Hello George!!\n"
     ]
    }
   ],
   "source": [
    "name = input (\"Enter your name:\")\n",
    "print(\"Hello\",name + \"!\")"
   ]
  },
  {
   "cell_type": "markdown",
   "id": "da769266",
   "metadata": {},
   "source": [
    "# IF Statements & Syntax\n",
    "Indents important for python, wrong indent will provide an error."
   ]
  },
  {
   "cell_type": "code",
   "execution_count": 44,
   "id": "ab5fd1d5",
   "metadata": {},
   "outputs": [
    {
     "name": "stdout",
     "output_type": "stream",
     "text": [
      "a is greater than b\n"
     ]
    }
   ],
   "source": [
    "a = 50\n",
    "b = 8\n",
    "if a > b:\n",
    "    print(\"a is greater than b\")\n",
    "else:\n",
    "    print(\"b is greater than a\")\n"
   ]
  },
  {
   "cell_type": "markdown",
   "id": "99e7bfad",
   "metadata": {},
   "source": [
    "# String Manipulation\n",
    "## Quotes inside Quotes\n",
    "You can use quotes inside a string, as long as they don't match the quotes surrounding the string:"
   ]
  },
  {
   "cell_type": "code",
   "execution_count": 45,
   "id": "51c83280",
   "metadata": {},
   "outputs": [
    {
     "name": "stdout",
     "output_type": "stream",
     "text": [
      "It's alright\n",
      "He is called 'Johnny'\n",
      "He is called \"Johnny\"\n"
     ]
    }
   ],
   "source": [
    "print(\"It's alright\")\n",
    "print(\"He is called 'Johnny'\")\n",
    "print('He is called \"Johnny\"')\n"
   ]
  },
  {
   "cell_type": "markdown",
   "id": "f949e57d",
   "metadata": {},
   "source": [
    "## Print Slicing"
   ]
  },
  {
   "cell_type": "code",
   "execution_count": 46,
   "id": "85a18131",
   "metadata": {},
   "outputs": [
    {
     "name": "stdout",
     "output_type": "stream",
     "text": [
      "l\n",
      "llo\n",
      "World\n"
     ]
    }
   ],
   "source": [
    "b = \"Hello, World!\"\n",
    "print(b[2]) #print the third character\n",
    "print(b[2:5]) #print the third to fifth character\n",
    "\n",
    "# print world:\n",
    "print(b[7:12]) #print the sixth character from the 9th character\n",
    "# Slice from the Start\n"
   ]
  },
  {
   "cell_type": "markdown",
   "id": "ee88a63f",
   "metadata": {},
   "source": [
    "## Negative Indexing\n",
    "use negative"
   ]
  },
  {
   "cell_type": "code",
   "execution_count": 47,
   "id": "1a1d6288",
   "metadata": {},
   "outputs": [
    {
     "name": "stdout",
     "output_type": "stream",
     "text": [
      "Hello, World!\n",
      "orl\n",
      "World!\n"
     ]
    }
   ],
   "source": [
    "b = \"Hello, World!\"\n",
    "print(b)\n",
    "print(b[-5:-2])\n",
    "print(b[-6:])"
   ]
  },
  {
   "cell_type": "code",
   "execution_count": 48,
   "id": "424a9424",
   "metadata": {},
   "outputs": [
    {
     "name": "stdout",
     "output_type": "stream",
     "text": [
      "HELLO, WORLD!\n",
      "hello, world!\n",
      "Hello, World!\n",
      "Jello, World!\n",
      "['Hello', ' World!']\n",
      "Hello World\n",
      "My name is John, and I am 36\n"
     ]
    }
   ],
   "source": [
    "# String Functions\n",
    "a = \"Hello, World!\"\n",
    "print(a.upper()) #uppercase\n",
    "print(a.lower()) #lowercase\n",
    "print(a.strip()) #remove whitespace\n",
    "print(a.replace(\"H\", \"J\")) #replace H with J\n",
    "print(a.split(\",\")) #split the string into a list\n",
    "# String Concatenation\n",
    "a = \"Hello\"\n",
    "b = \"World\"\n",
    "c = a + \" \" + b\n",
    "print(c) #Hello World\n",
    "# String Formatting\n",
    "age = 36\n",
    "txt = \"My name is John, and I am {}\"\n",
    "print(txt.format(age)) #My name is John, and I am 36\n",
    "# String Formatting with f-strings\n",
    "name = \"John\"\n",
    "age = 36\n",
    "txt = f\"My name is {name}, and I am {age}\"              "
   ]
  },
  {
   "cell_type": "code",
   "execution_count": 49,
   "id": "4599ea20",
   "metadata": {},
   "outputs": [
    {
     "name": "stdout",
     "output_type": "stream",
     "text": [
      "True\n",
      "False\n",
      "False\n"
     ]
    }
   ],
   "source": [
    "# Boolean Values\n",
    "print(10 > 9) #True\n",
    "print(10 == 9) #False\n",
    "print(10 < 9) #False"
   ]
  },
  {
   "cell_type": "code",
   "execution_count": 50,
   "id": "32952be1",
   "metadata": {},
   "outputs": [
    {
     "name": "stdout",
     "output_type": "stream",
     "text": [
      "8\n",
      "2\n",
      "15\n",
      "1.6666666666666667\n",
      "2\n",
      "125\n",
      "1\n",
      "8\n",
      "5\n",
      "15\n",
      "5.0\n",
      "2.0\n",
      "8.0\n",
      "2.0\n",
      "False\n",
      "True\n",
      "True\n",
      "False\n",
      "True\n",
      "False\n",
      "False\n",
      "True\n",
      "False\n",
      "False\n",
      "True\n",
      "True\n",
      "True\n",
      "1\n",
      "7\n",
      "6\n",
      "-6\n",
      "10\n",
      "2\n",
      "['apple', 'banana', 'cherry']\n",
      "['apple', 'blackcurrant', 'cherry']\n",
      "['apple', 'blackcurrant', 'cherry', 'orange']\n",
      "['apple', 'orange', 'blackcurrant', 'cherry', 'orange']\n",
      "['apple', 'orange', 'cherry', 'orange']\n",
      "['apple', 'orange', 'cherry']\n",
      "['apple', 'cherry']\n",
      "[]\n",
      "['apple', 'banana', 'cherry']\n",
      "['apple', 'banana', 'cherry', 'orange', 'mango', 'grape']\n",
      "['apple', 'banana', 'cherry', 'orange', 'mango', 'grape']\n",
      "['apple', 'banana', 'cherry']\n",
      "['cherry', 'banana', 'apple']\n",
      "['apple', 'banana', 'cherry']\n",
      "['apple', 'banana', 'cherry']\n",
      "# Python Tuples\n",
      "('apple', 'banana', 'cherry')\n",
      "banana\n",
      "('banana', 'cherry')\n",
      "('apple', 'banana')\n",
      "('banana',)\n",
      "cherry\n",
      "('banana', 'cherry')\n",
      "('apple',)\n",
      "('banana',)\n",
      "('banana',)\n",
      "('banana',)\n"
     ]
    }
   ],
   "source": [
    "# Arithmetic Operators\n",
    "x = 5\n",
    "y = 3\n",
    "print(x + y) #addition\n",
    "print(x - y) #subtraction\n",
    "print(x * y) #multiplication\n",
    "print(x / y) #division\n",
    "print(x % y) #modulus\n",
    "print(x ** y) #exponentiation\n",
    "print(x // y) #floor division\n",
    "# Assignment Operators\n",
    "x = 5\n",
    "x += 3 #x = x + 3\n",
    "print(x) #8\n",
    "x -= 3 #x = x - 3\n",
    "print(x) #5\n",
    "x *= 3 #x = x * 3\n",
    "print(x) #15\n",
    "x /= 3 #x = x / 3\n",
    "print(x) #5.0\n",
    "x %= 3 #x = x % 3\n",
    "print(x) #2.0\n",
    "x **= 3 #x = x ** 3\n",
    "print(x) #8.0\n",
    "x //= 3 #x = x // 3\n",
    "print(x) #2.0\n",
    "# Comparison Operators\n",
    "x = 5\n",
    "y = 3\n",
    "print(x == y) #False\n",
    "print(x != y) #True\n",
    "print(x > y) #True\n",
    "print(x < y) #False\n",
    "print(x >= y) #True\n",
    "print(x <= y) #False\n",
    "# Logical Operators\n",
    "x = True\n",
    "y = False\n",
    "print(x and y) #False\n",
    "print(x or y) #True\n",
    "print(not x) #False\n",
    "# Identity Operators\n",
    "x = [\"apple\", \"banana\"]\n",
    "y = [\"apple\", \"banana\"]\n",
    "print(x is y) #False\n",
    "print(x is not y) #True\n",
    "# Membership Operators\n",
    "x = [\"apple\", \"banana\"]\n",
    "print(\"banana\" in x) #True\n",
    "print(\"cherry\" not in x) #True\n",
    "# Bitwise Operators\n",
    "x = 5 #0101\n",
    "y = 3 #0011\n",
    "print(x & y) #0011\n",
    "print(x | y) #0111\n",
    "print(x ^ y) #0100\n",
    "print(~x) #1010\n",
    "print(x << 1) #1010\n",
    "print(x >> 1) #0010\n",
    "# Python Lists\n",
    "thislist = [\"apple\", \"banana\", \"cherry\"]\n",
    "print(thislist) #['apple', 'banana', 'cherry']\n",
    "thislist[1] = \"blackcurrant\"\n",
    "print(thislist) #['apple', 'blackcurrant', 'cherry']\n",
    "thislist.append(\"orange\")\n",
    "print(thislist) #['apple', 'blackcurrant', 'cherry', 'orange']\n",
    "thislist.insert(1, \"orange\")\n",
    "print(thislist) #['apple', 'orange', 'blackcurrant', 'cherry', 'orange']\n",
    "thislist.remove(\"blackcurrant\")\n",
    "print(thislist) #['apple', 'orange', 'cherry', 'orange']\n",
    "thislist.pop()\n",
    "print(thislist) #['apple', 'orange', 'cherry']\n",
    "thislist.pop(1)\n",
    "print(thislist) #['apple', 'cherry']\n",
    "thislist.clear()\n",
    "print(thislist) #[]\n",
    "thislist = [\"apple\", \"banana\", \"cherry\"]\n",
    "print(thislist) #['apple', 'banana', 'cherry']\n",
    "thislist = [\"apple\", \"banana\", \"cherry\"]\n",
    "thislist2 = [\"orange\", \"mango\", \"grape\"]\n",
    "thislist = thislist + thislist2\n",
    "print(thislist) #['apple', 'banana', 'cherry', 'orange', 'mango', 'grape']\n",
    "thislist = [\"apple\", \"banana\", \"cherry\"]\n",
    "thislist2 = [\"orange\", \"mango\", \"grape\"]\n",
    "thislist.extend(thislist2)\n",
    "print(thislist) #['apple', 'banana', 'cherry', 'orange', 'mango', 'grape']\n",
    "thislist = [\"apple\", \"banana\", \"cherry\"]\n",
    "thislist.sort()\n",
    "print(thislist) #['apple', 'banana', 'cherry']\n",
    "thislist = [\"apple\", \"banana\", \"cherry\"]\n",
    "thislist.reverse()\n",
    "print(thislist) #['cherry', 'banana', 'apple']\n",
    "thislist = [\"apple\", \"banana\", \"cherry\"]\n",
    "print(thislist) #['apple', 'banana', 'cherry']\n",
    "thislist = [\"apple\", \"banana\", \"cherry\"]\n",
    "thislist2 = thislist.copy()\n",
    "print(thislist2) #['apple', 'banana', 'cherry']\n",
    "# Python Tuples\n",
    "print(\"# Python Tuples\")\n",
    "thistuple = (\"apple\", \"banana\", \"cherry\")\n",
    "print(thistuple) #('apple', 'banana', 'cherry')\n",
    "thistuple = (\"apple\", \"banana\", \"cherry\")\n",
    "print(thistuple[1]) #banana\n",
    "thistuple = (\"apple\", \"banana\", \"cherry\")\n",
    "print(thistuple[1:]) #('banana', 'cherry')\n",
    "thistuple = (\"apple\", \"banana\", \"cherry\")\n",
    "print(thistuple[:2]) #('apple', 'banana')\n",
    "thistuple = (\"apple\", \"banana\", \"cherry\")\n",
    "print(thistuple[1:2]) #('banana',)\n",
    "thistuple = (\"apple\", \"banana\", \"cherry\")\n",
    "print(thistuple[-1]) #cherry\n",
    "thistuple = (\"apple\", \"banana\", \"cherry\")\n",
    "print(thistuple[-2:]) #('banana', 'cherry')\n",
    "thistuple = (\"apple\", \"banana\", \"cherry\")\n",
    "print(thistuple[:-2]) #('apple',)\n",
    "thistuple = (\"apple\", \"banana\", \"cherry\")\n",
    "print(thistuple[-2:-1]) #('banana',)\n",
    "thistuple = (\"apple\", \"banana\", \"cherry\")\n",
    "print(thistuple[1:2]) #('banana',)\n",
    "thistuple = (\"apple\", \"banana\", \"cherry\")\n",
    "print(thistuple[1:2]) #('banana',)\n"
   ]
  },
  {
   "cell_type": "code",
   "execution_count": 51,
   "id": "7258a6ff",
   "metadata": {},
   "outputs": [
    {
     "name": "stdout",
     "output_type": "stream",
     "text": [
      "True\n"
     ]
    }
   ],
   "source": [
    "# Python Logical Operators\n",
    "x = 5\n",
    "print(x > 3 and x < 10) #True\n",
    "# returns True because 5 is greater than 3 AND 5 is less than 10\n"
   ]
  },
  {
   "cell_type": "code",
   "execution_count": 52,
   "id": "dd8bc5b9",
   "metadata": {},
   "outputs": [
    {
     "name": "stdout",
     "output_type": "stream",
     "text": [
      "['apple', 'banana', 'cherry']\n",
      "('apple', 'banana', 'cherry')\n",
      "{'cherry', 'banana', 'apple'}\n",
      "{'brand': 'Ford', 'model': 'Mustang', 'year': 1964}\n"
     ]
    }
   ],
   "source": [
    "# 4 built in data types used to store collections of data\n",
    "# List\n",
    "thislist = [\"apple\", \"banana\", \"cherry\"]\n",
    "print(thislist) #['apple', 'banana', 'cherry']\n",
    "# Tuple\n",
    "thistuple = (\"apple\", \"banana\", \"cherry\")\n",
    "print(thistuple) #('apple', 'banana', 'cherry')\n",
    "# Set\n",
    "thisset = {\"apple\", \"banana\", \"cherry\"}\n",
    "print(thisset) #{'banana', 'cherry', 'apple'}\n",
    "# Dictionary\n",
    "thisdict = {\"brand\": \"Ford\", \"model\": \"Mustang\", \"year\": 1964}\n",
    "print(thisdict) #{'brand': 'Ford', 'model': 'Mustang', 'year': 1964}\n"
   ]
  },
  {
   "cell_type": "code",
   "execution_count": 56,
   "id": "2764180f",
   "metadata": {},
   "outputs": [
    {
     "name": "stdout",
     "output_type": "stream",
     "text": [
      "['bmw', 'mercedes', 'Honda']\n",
      "3\n",
      "<class 'list'>\n"
     ]
    }
   ],
   "source": [
    "# Lists created with square brackets\n",
    "a=[\"bmw\",\"mercedes\",\"Honda\"]\n",
    "print(a)\n",
    "# Lists are prdered, can add or remove items in a list after it has been created.\n",
    "# Lists allow duplicate values\n",
    "# Lists are mutable, this means that we can change the list items after it has been created.\n",
    "# List items are indexed, the first item has index [0], the second item has index [1] etc.\n",
    "# List items can be of any data type, even other lists.\n",
    "\n",
    "print(len(a)) #3\n",
    "print(type(a)) #<class 'list'>\n"
   ]
  },
  {
   "cell_type": "code",
   "execution_count": 60,
   "id": "d71e9f35",
   "metadata": {},
   "outputs": [
    {
     "name": "stdout",
     "output_type": "stream",
     "text": [
      "{'cherry', 'banana', 'apple'}\n",
      "{'cherry', 'banana', 'apples'}\n",
      "{'cherry', 'banana', 'apple'}\n",
      "{'cherry', 'banana', 'apple'}\n"
     ]
    }
   ],
   "source": [
    "thisset = {\"apple\", \"banana\", \"cherry\"}\n",
    "print(thisset)\n",
    "thisset = {\"apples\", \"banana\", \"cherry\"}\n",
    "print(thisset)\n",
    "thisset = {\"apple\", \"banana\", \"cherry\"}\n",
    "print(thisset)\n",
    "thisset = {\"apple\", \"banana\", \"cherry\"}\n",
    "print(thisset)\n"
   ]
  },
  {
   "cell_type": "code",
   "execution_count": 73,
   "id": "99f87c39",
   "metadata": {},
   "outputs": [
    {
     "name": "stdout",
     "output_type": "stream",
     "text": [
      "cherry\n",
      "['orange', 'kiwi', 'melon']\n",
      "Mango is at position 7 of the list\n",
      "Yes, mango is in the fruits list\n",
      "['apple', 'banana', 'watermelon', 'cherry', 'orange', 'kiwi', 'melon', 'mango']\n",
      "['apple', 'banana', 'watermelon', 'cherry', 'orange', 'kiwi', 'melon', 'mango', 'Dragon Fruit']\n"
     ]
    }
   ],
   "source": [
    "# Negative Indexing\n",
    "thislist = [\"apple\", \"banana\", \"cherry\"]\n",
    "print(thislist[-1]) #cherry\n",
    "thislist = [\"apple\", \"banana\", \"cherry\", \"orange\", \"kiwi\", \"melon\", \"mango\"]\n",
    "print(thislist[-4:-1]) #['orange', 'kiwi', 'melon']\n",
    "\n",
    "print(\"Mango is at position\",thislist.index(\"mango\") + 1,\"of the list\")\n",
    "\n",
    "if \"mango\" in thislist:\n",
    "    print(f\"Yes, {thislist[thislist.index(\"mango\")]} is in the fruits list\")\n",
    "\n",
    "thislist.insert(2, \"watermelon\")\n",
    "print(thislist) \n",
    "\n",
    "extrafruit = input(\"Enter a fruit to add to the list: \")\n",
    "thislist.append(extrafruit)\n",
    "print(thislist)"
   ]
  },
  {
   "cell_type": "code",
   "execution_count": 74,
   "id": "d255599f",
   "metadata": {},
   "outputs": [
    {
     "name": "stdout",
     "output_type": "stream",
     "text": [
      "['apple', 'banana', 'cherry', 'mango', 'pineapple', 'papaya']\n"
     ]
    }
   ],
   "source": [
    "#Extend List\n",
    "thislist = [\"apple\", \"banana\", \"cherry\"]\n",
    "tropical = [\"mango\", \"pineapple\", \"papaya\"]\n",
    "thislist.extend(tropical)\n",
    "print(thislist) "
   ]
  },
  {
   "cell_type": "code",
   "execution_count": 82,
   "id": "5c0ce209",
   "metadata": {},
   "outputs": [
    {
     "name": "stdout",
     "output_type": "stream",
     "text": [
      "['apple', 'cherry', 'orange']\n",
      "['apple', 'orange']\n",
      "['apple']\n"
     ]
    }
   ],
   "source": [
    "#remove item\n",
    "thislist = [\"apple\", \"banana\", \"cherry\", \"orange\"]\n",
    "thislist.remove(\"banana\")\n",
    "print(thislist) #['apple', 'cherry']\n",
    "thislist.pop(1)\n",
    "print(thislist)\n",
    "thislist.pop()\n",
    "print(thislist)\n"
   ]
  },
  {
   "cell_type": "code",
   "execution_count": 84,
   "id": "0a5f39a8",
   "metadata": {},
   "outputs": [
    {
     "name": "stdout",
     "output_type": "stream",
     "text": [
      "['banana', 'cherry']\n"
     ]
    },
    {
     "ename": "NameError",
     "evalue": "name 'thislist' is not defined",
     "output_type": "error",
     "traceback": [
      "\u001b[31m---------------------------------------------------------------------------\u001b[39m",
      "\u001b[31mNameError\u001b[39m                                 Traceback (most recent call last)",
      "\u001b[36mCell\u001b[39m\u001b[36m \u001b[39m\u001b[32mIn[84]\u001b[39m\u001b[32m, line 6\u001b[39m\n\u001b[32m      4\u001b[39m \u001b[38;5;28mprint\u001b[39m(thislist) \u001b[38;5;66;03m#['banana', 'cherry']\u001b[39;00m\n\u001b[32m      5\u001b[39m \u001b[38;5;28;01mdel\u001b[39;00m thislist\n\u001b[32m----> \u001b[39m\u001b[32m6\u001b[39m \u001b[38;5;28mprint\u001b[39m(\u001b[43mthislist\u001b[49m)\n",
      "\u001b[31mNameError\u001b[39m: name 'thislist' is not defined"
     ]
    }
   ],
   "source": [
    "#remove with delete\n",
    "thislist = [\"apple\", \"banana\", \"cherry\"]\n",
    "del thislist[0]\n",
    "print(thislist) #['banana', 'cherry']\n",
    "del thislist\n",
    "print(thislist)"
   ]
  },
  {
   "cell_type": "code",
   "execution_count": 116,
   "id": "c93834be",
   "metadata": {},
   "outputs": [
    {
     "name": "stdout",
     "output_type": "stream",
     "text": [
      "pop(0): 5.4836273193359375e-05\n",
      "del[0]: 9.608268737792969e-05\n",
      "Average pop(0): 1.5351247787475587e-06\n",
      "Average del[0]: 3.4929084777832033e-06\n"
     ]
    }
   ],
   "source": [
    "# del generally faster than pop\n",
    "import time\n",
    "\n",
    "lst = list(range(100000))\n",
    "\n",
    "# pop from start\n",
    "start = time.time()\n",
    "lst.pop(0)\n",
    "end = time.time()\n",
    "print(\"pop(0):\", end - start)\n",
    "\n",
    "# del from start\n",
    "lst = list(range(100000))\n",
    "start = time.time()\n",
    "del lst[0]\n",
    "end = time.time()\n",
    "print(\"del[0]:\", end - start)\n",
    "\n",
    "# loop for average\n",
    "\n",
    "runs = 100000\n",
    "size = 10000\n",
    "\n",
    "# pop(0)\n",
    "total_pop = 0\n",
    "for _ in range(runs):\n",
    "    lst = list(range(size))\n",
    "    start = time.time()\n",
    "    lst.pop(0)\n",
    "    total_pop += time.time() - start\n",
    "print(\"Average pop(0):\", total_pop / runs)\n",
    "\n",
    "# del[0]\n",
    "total_del = 0\n",
    "for _ in range(runs):\n",
    "    lst = list(range(size))\n",
    "    start = time.time()\n",
    "    del lst[0]\n",
    "    total_del += time.time() - start\n",
    "print(\"Average del[0]:\", total_del / runs)"
   ]
  },
  {
   "cell_type": "code",
   "execution_count": 85,
   "id": "a90151a5",
   "metadata": {},
   "outputs": [
    {
     "name": "stdout",
     "output_type": "stream",
     "text": [
      "[]\n"
     ]
    }
   ],
   "source": [
    "# clear the list\n",
    "thislist = [\"apple\", \"banana\", \"cherry\"]\n",
    "thislist.clear()\n",
    "print(thislist) "
   ]
  }
 ],
 "metadata": {
  "kernelspec": {
   "display_name": ".venv",
   "language": "python",
   "name": "python3"
  },
  "language_info": {
   "codemirror_mode": {
    "name": "ipython",
    "version": 3
   },
   "file_extension": ".py",
   "mimetype": "text/x-python",
   "name": "python",
   "nbconvert_exporter": "python",
   "pygments_lexer": "ipython3",
   "version": "3.13.3"
  }
 },
 "nbformat": 4,
 "nbformat_minor": 5
}
