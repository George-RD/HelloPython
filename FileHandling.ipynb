{
 "cells": [
  {
   "cell_type": "markdown",
   "id": "70726066",
   "metadata": {},
   "source": [
    "# File Handling Module"
   ]
  },
  {
   "cell_type": "code",
   "execution_count": 26,
   "id": "f3e757e3",
   "metadata": {},
   "outputs": [
    {
     "name": "stdout",
     "output_type": "stream",
     "text": [
      "This is a new file created in Colab\n"
     ]
    }
   ],
   "source": [
    "with open('practicefile.txt', 'r') as file:\n",
    "    content = file.read()\n",
    "    print(content)"
   ]
  },
  {
   "cell_type": "code",
   "execution_count": 25,
   "id": "76072032",
   "metadata": {},
   "outputs": [
    {
     "name": "stdout",
     "output_type": "stream",
     "text": [
      "# pricing_calc\n"
     ]
    }
   ],
   "source": [
    "with open('../pricing_calc/README.md', 'r') as file:\n",
    "    content = file.read()\n",
    "    print(content)"
   ]
  },
  {
   "cell_type": "code",
   "execution_count": 24,
   "id": "9b08e6d5",
   "metadata": {},
   "outputs": [
    {
     "name": "stdout",
     "output_type": "stream",
     "text": [
      "This is a new file created in Colab\n"
     ]
    }
   ],
   "source": [
    "with open('practicefile.txt', 'w') as file:\n",
    "    file.write(\"This is a new file created in Colab\")\n",
    "\n",
    "with open('practicefile.txt','r') as file:\n",
    "    print(file.read())"
   ]
  },
  {
   "cell_type": "code",
   "execution_count": null,
   "id": "e70b77a6",
   "metadata": {},
   "outputs": [
    {
     "name": "stdout",
     "output_type": "stream",
     "text": [
      "This is a new file created in Colab\n",
      "\n",
      "Logbook Entry\n",
      "\n",
      "Today is a great day!\n",
      "\n",
      "Logbook Entry\n",
      "\n",
      "Today is a great day!\n"
     ]
    }
   ],
   "source": [
    "\n",
    "with open('practicefile.txt', 'a') as file:\n",
    "    file.write(\"\\n\\nLogbook Entry\\n\\n\")\n",
    "    file.write(\"Today is a great day!\")\n",
    "\n",
    "with open('practicefile.txt','r') as file:\n",
    "    print(file.read())"
   ]
  },
  {
   "cell_type": "code",
   "execution_count": 29,
   "id": "94378799",
   "metadata": {},
   "outputs": [
    {
     "name": "stdout",
     "output_type": "stream",
     "text": [
      "practicefile.txt has been deleted.\n"
     ]
    }
   ],
   "source": [
    "import os\n",
    "\n",
    "# Delete File\n",
    "\n",
    "file_path = 'practicefile.txt'\n",
    "\n",
    "if os.path.exists(file_path):\n",
    "    os.remove(file_path)\n",
    "    print(f\"{file_path} has been deleted.\")\n",
    "else:\n",
    "    print(f\"{file_path} does not exist.\")"
   ]
  },
  {
   "cell_type": "markdown",
   "id": "429cc2a4",
   "metadata": {},
   "source": [
    "# Create Own Module\n",
    "\n",
    "Code library, set of functions can be defined inside module"
   ]
  },
  {
   "cell_type": "code",
   "execution_count": 40,
   "id": "0f8b2ef4",
   "metadata": {},
   "outputs": [
    {
     "name": "stdout",
     "output_type": "stream",
     "text": [
      "Overwriting mymodule.py\n"
     ]
    }
   ],
   "source": [
    "%%writefile mymodule.py\n",
    "\n",
    "def greet(name):\n",
    "    return f\"Hello, {name}\"\n",
    "\n",
    "def add(a,b):\n",
    "    return a + b"
   ]
  },
  {
   "cell_type": "code",
   "execution_count": 34,
   "id": "a86b3aff",
   "metadata": {},
   "outputs": [
    {
     "name": "stdout",
     "output_type": "stream",
     "text": [
      "Hello, JuJu\n",
      "25\n"
     ]
    }
   ],
   "source": [
    "import mymodule\n",
    "\n",
    "print(mymodule.greet(\"JuJu\"))\n",
    "print(mymodule.add(15,10))"
   ]
  },
  {
   "cell_type": "code",
   "execution_count": 35,
   "id": "2506d48b",
   "metadata": {},
   "outputs": [
    {
     "name": "stdout",
     "output_type": "stream",
     "text": [
      "5\n"
     ]
    }
   ],
   "source": [
    "import mymodule\n",
    "\n",
    "module = mymodule\n",
    "\n",
    "print(module.add(2,3))"
   ]
  },
  {
   "cell_type": "code",
   "execution_count": 36,
   "id": "b0eda245",
   "metadata": {},
   "outputs": [
    {
     "name": "stdout",
     "output_type": "stream",
     "text": [
      "5\n"
     ]
    }
   ],
   "source": [
    "import mymodule as module\n",
    "\n",
    "print(module.add(2,3))"
   ]
  }
 ],
 "metadata": {
  "kernelspec": {
   "display_name": ".venv",
   "language": "python",
   "name": "python3"
  },
  "language_info": {
   "codemirror_mode": {
    "name": "ipython",
    "version": 3
   },
   "file_extension": ".py",
   "mimetype": "text/x-python",
   "name": "python",
   "nbconvert_exporter": "python",
   "pygments_lexer": "ipython3",
   "version": "3.13.3"
  }
 },
 "nbformat": 4,
 "nbformat_minor": 5
}
